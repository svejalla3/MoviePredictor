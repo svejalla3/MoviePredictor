{
 "cells": [
  {
   "cell_type": "markdown",
   "id": "f1a6c0b4",
   "metadata": {},
   "source": [
    "# ML Fall22 - Movie Dataset Preprocessing"
   ]
  },
  {
   "cell_type": "markdown",
   "id": "54ebfff7",
   "metadata": {},
   "source": [
    "### Loading dependancies"
   ]
  },
  {
   "cell_type": "code",
   "execution_count": 1,
   "id": "496b7f1e",
   "metadata": {},
   "outputs": [],
   "source": [
    "import os\n",
    "import sys\n",
    "import numpy as np\n",
    "import pandas as pd\n",
    "import matplotlib.pyplot as plt\n",
    "import ast\n",
    "import ipdb\n",
    "import json"
   ]
  },
  {
   "cell_type": "code",
   "execution_count": 2,
   "id": "02663088",
   "metadata": {},
   "outputs": [],
   "source": [
    "DATA_lg = \"../../data/full_metadata_tmdb.csv\"\n",
    "DATA_sm = \"../../data/tmdb_details_scraped.csv\"\n",
    "Prad_DATA = \"../cleaned_metadata.csv\"\n",
    "\n",
    "data = pd.read_csv(Prad_DATA)"
   ]
  },
  {
   "cell_type": "markdown",
   "id": "2ba6f39d",
   "metadata": {},
   "source": [
    "## Step 1: Dropping Low Information Columns"
   ]
  },
  {
   "cell_type": "code",
   "execution_count": 3,
   "id": "59b497c5",
   "metadata": {},
   "outputs": [
    {
     "data": {
      "text/html": [
       "<div>\n",
       "<style scoped>\n",
       "    .dataframe tbody tr th:only-of-type {\n",
       "        vertical-align: middle;\n",
       "    }\n",
       "\n",
       "    .dataframe tbody tr th {\n",
       "        vertical-align: top;\n",
       "    }\n",
       "\n",
       "    .dataframe thead th {\n",
       "        text-align: right;\n",
       "    }\n",
       "</style>\n",
       "<table border=\"1\" class=\"dataframe\">\n",
       "  <thead>\n",
       "    <tr style=\"text-align: right;\">\n",
       "      <th></th>\n",
       "      <th>Title</th>\n",
       "      <th>imdbId</th>\n",
       "      <th>adult</th>\n",
       "      <th>budget</th>\n",
       "      <th>genres</th>\n",
       "      <th>original_language</th>\n",
       "      <th>original_title</th>\n",
       "      <th>popularity</th>\n",
       "      <th>production_companies</th>\n",
       "      <th>release_date</th>\n",
       "      <th>revenue</th>\n",
       "      <th>runtime</th>\n",
       "      <th>tagline</th>\n",
       "      <th>vote_average</th>\n",
       "      <th>vote_count</th>\n",
       "      <th>casts</th>\n",
       "      <th>keywords</th>\n",
       "      <th>num_releases</th>\n",
       "      <th>num_translations</th>\n",
       "    </tr>\n",
       "  </thead>\n",
       "  <tbody>\n",
       "    <tr>\n",
       "      <th>0</th>\n",
       "      <td>Toy Story (1995)</td>\n",
       "      <td>114709</td>\n",
       "      <td>False</td>\n",
       "      <td>1.344100</td>\n",
       "      <td>[{'id': 16, 'name': 'Animation'}, {'id': 12, '...</td>\n",
       "      <td>en</td>\n",
       "      <td>Toy Story</td>\n",
       "      <td>13.233161</td>\n",
       "      <td>[{'id': 3, 'logo_path': '/1TjvGVDMYsj6JBxOAkUH...</td>\n",
       "      <td>1995-10-30</td>\n",
       "      <td>5.243183</td>\n",
       "      <td>-0.554372</td>\n",
       "      <td>NaN</td>\n",
       "      <td>1.516530</td>\n",
       "      <td>11.230518</td>\n",
       "      <td>{'cast': [{'adult': False, 'gender': 2, 'id': ...</td>\n",
       "      <td>{'keywords': [{'id': 779, 'name': 'martial art...</td>\n",
       "      <td>2.198140</td>\n",
       "      <td>3.380860</td>\n",
       "    </tr>\n",
       "    <tr>\n",
       "      <th>1</th>\n",
       "      <td>Jumanji (1995)</td>\n",
       "      <td>113497</td>\n",
       "      <td>False</td>\n",
       "      <td>3.233367</td>\n",
       "      <td>[{'id': 12, 'name': 'Adventure'}, {'id': 14, '...</td>\n",
       "      <td>en</td>\n",
       "      <td>Jumanji</td>\n",
       "      <td>0.497344</td>\n",
       "      <td>[{'id': 559, 'logo_path': '/jqWioYeGSyTLuHth01...</td>\n",
       "      <td>1995-12-15</td>\n",
       "      <td>3.629983</td>\n",
       "      <td>0.258067</td>\n",
       "      <td>Roll the dice and unleash the excitement!</td>\n",
       "      <td>0.933025</td>\n",
       "      <td>6.413346</td>\n",
       "      <td>{'cast': [{'adult': False, 'gender': 2, 'id': ...</td>\n",
       "      <td>{'keywords': [{'id': 7035, 'name': 'giant inse...</td>\n",
       "      <td>3.041993</td>\n",
       "      <td>2.978730</td>\n",
       "    </tr>\n",
       "    <tr>\n",
       "      <th>2</th>\n",
       "      <td>Grumpier Old Men (1995)</td>\n",
       "      <td>113228</td>\n",
       "      <td>False</td>\n",
       "      <td>1.074205</td>\n",
       "      <td>[{'id': 10749, 'name': 'Romance'}, {'id': 35, ...</td>\n",
       "      <td>en</td>\n",
       "      <td>Grumpier Old Men</td>\n",
       "      <td>0.061151</td>\n",
       "      <td>[{'id': 174, 'logo_path': '/IuAlhI9eVC9Z8UQWOI...</td>\n",
       "      <td>1995-12-22</td>\n",
       "      <td>0.842709</td>\n",
       "      <td>0.152097</td>\n",
       "      <td>Still Yelling. Still Fighting. Still Ready for...</td>\n",
       "      <td>0.293721</td>\n",
       "      <td>-0.038351</td>\n",
       "      <td>{'cast': [{'adult': False, 'gender': 2, 'id': ...</td>\n",
       "      <td>{'keywords': [{'id': 1495, 'name': 'fishing'},...</td>\n",
       "      <td>0.148783</td>\n",
       "      <td>1.370211</td>\n",
       "    </tr>\n",
       "    <tr>\n",
       "      <th>3</th>\n",
       "      <td>Waiting to Exhale (1995)</td>\n",
       "      <td>114885</td>\n",
       "      <td>False</td>\n",
       "      <td>0.588393</td>\n",
       "      <td>[{'id': 35, 'name': 'Comedy'}, {'id': 18, 'nam...</td>\n",
       "      <td>en</td>\n",
       "      <td>Waiting to Exhale</td>\n",
       "      <td>0.180840</td>\n",
       "      <td>[{'id': 25, 'logo_path': '/qZCc1lty5FzX30aOCVR...</td>\n",
       "      <td>1995-12-22</td>\n",
       "      <td>0.987697</td>\n",
       "      <td>1.070506</td>\n",
       "      <td>Friends are the people who let you be yourself...</td>\n",
       "      <td>0.188499</td>\n",
       "      <td>-0.167241</td>\n",
       "      <td>{'cast': [{'adult': False, 'gender': 1, 'id': ...</td>\n",
       "      <td>{'keywords': [{'id': 818, 'name': 'based on no...</td>\n",
       "      <td>0.148783</td>\n",
       "      <td>0.465419</td>\n",
       "    </tr>\n",
       "    <tr>\n",
       "      <th>4</th>\n",
       "      <td>Father of the Bride Part II (1995)</td>\n",
       "      <td>113041</td>\n",
       "      <td>False</td>\n",
       "      <td>-0.275271</td>\n",
       "      <td>[{'id': 35, 'name': 'Comedy'}, {'id': 10751, '...</td>\n",
       "      <td>en</td>\n",
       "      <td>Father of the Bride Part II</td>\n",
       "      <td>0.311671</td>\n",
       "      <td>[{'id': 5842, 'logo_path': None, 'name': 'Sand...</td>\n",
       "      <td>1995-12-08</td>\n",
       "      <td>0.916922</td>\n",
       "      <td>0.328714</td>\n",
       "      <td>Just When His World Is Back To Normal... He's ...</td>\n",
       "      <td>0.126322</td>\n",
       "      <td>0.176225</td>\n",
       "      <td>{'cast': [{'adult': False, 'gender': 2, 'id': ...</td>\n",
       "      <td>{'keywords': [{'id': 970, 'name': 'parent chil...</td>\n",
       "      <td>0.510435</td>\n",
       "      <td>1.671808</td>\n",
       "    </tr>\n",
       "  </tbody>\n",
       "</table>\n",
       "</div>"
      ],
      "text/plain": [
       "                                Title  imdbId  adult    budget  \\\n",
       "0                    Toy Story (1995)  114709  False  1.344100   \n",
       "1                      Jumanji (1995)  113497  False  3.233367   \n",
       "2             Grumpier Old Men (1995)  113228  False  1.074205   \n",
       "3            Waiting to Exhale (1995)  114885  False  0.588393   \n",
       "4  Father of the Bride Part II (1995)  113041  False -0.275271   \n",
       "\n",
       "                                              genres original_language  \\\n",
       "0  [{'id': 16, 'name': 'Animation'}, {'id': 12, '...                en   \n",
       "1  [{'id': 12, 'name': 'Adventure'}, {'id': 14, '...                en   \n",
       "2  [{'id': 10749, 'name': 'Romance'}, {'id': 35, ...                en   \n",
       "3  [{'id': 35, 'name': 'Comedy'}, {'id': 18, 'nam...                en   \n",
       "4  [{'id': 35, 'name': 'Comedy'}, {'id': 10751, '...                en   \n",
       "\n",
       "                original_title  popularity  \\\n",
       "0                    Toy Story   13.233161   \n",
       "1                      Jumanji    0.497344   \n",
       "2             Grumpier Old Men    0.061151   \n",
       "3            Waiting to Exhale    0.180840   \n",
       "4  Father of the Bride Part II    0.311671   \n",
       "\n",
       "                                production_companies release_date   revenue  \\\n",
       "0  [{'id': 3, 'logo_path': '/1TjvGVDMYsj6JBxOAkUH...   1995-10-30  5.243183   \n",
       "1  [{'id': 559, 'logo_path': '/jqWioYeGSyTLuHth01...   1995-12-15  3.629983   \n",
       "2  [{'id': 174, 'logo_path': '/IuAlhI9eVC9Z8UQWOI...   1995-12-22  0.842709   \n",
       "3  [{'id': 25, 'logo_path': '/qZCc1lty5FzX30aOCVR...   1995-12-22  0.987697   \n",
       "4  [{'id': 5842, 'logo_path': None, 'name': 'Sand...   1995-12-08  0.916922   \n",
       "\n",
       "    runtime                                            tagline  vote_average  \\\n",
       "0 -0.554372                                                NaN      1.516530   \n",
       "1  0.258067          Roll the dice and unleash the excitement!      0.933025   \n",
       "2  0.152097  Still Yelling. Still Fighting. Still Ready for...      0.293721   \n",
       "3  1.070506  Friends are the people who let you be yourself...      0.188499   \n",
       "4  0.328714  Just When His World Is Back To Normal... He's ...      0.126322   \n",
       "\n",
       "   vote_count                                              casts  \\\n",
       "0   11.230518  {'cast': [{'adult': False, 'gender': 2, 'id': ...   \n",
       "1    6.413346  {'cast': [{'adult': False, 'gender': 2, 'id': ...   \n",
       "2   -0.038351  {'cast': [{'adult': False, 'gender': 2, 'id': ...   \n",
       "3   -0.167241  {'cast': [{'adult': False, 'gender': 1, 'id': ...   \n",
       "4    0.176225  {'cast': [{'adult': False, 'gender': 2, 'id': ...   \n",
       "\n",
       "                                            keywords  num_releases  \\\n",
       "0  {'keywords': [{'id': 779, 'name': 'martial art...      2.198140   \n",
       "1  {'keywords': [{'id': 7035, 'name': 'giant inse...      3.041993   \n",
       "2  {'keywords': [{'id': 1495, 'name': 'fishing'},...      0.148783   \n",
       "3  {'keywords': [{'id': 818, 'name': 'based on no...      0.148783   \n",
       "4  {'keywords': [{'id': 970, 'name': 'parent chil...      0.510435   \n",
       "\n",
       "   num_translations  \n",
       "0          3.380860  \n",
       "1          2.978730  \n",
       "2          1.370211  \n",
       "3          0.465419  \n",
       "4          1.671808  "
      ]
     },
     "execution_count": 3,
     "metadata": {},
     "output_type": "execute_result"
    }
   ],
   "source": [
    "data = data.drop([\"Unnamed: 0\", \"belongs_to_collection\", \"status\", \"production_countries\"], axis=1)\n",
    "data.head()"
   ]
  },
  {
   "cell_type": "markdown",
   "id": "c28b2d01",
   "metadata": {},
   "source": [
    "### Isolating a reliable movie id\n",
    "Notes: \n",
    "* There appears to be a lot duplicates in the scraped dataset, and the most reliable id column appears to be 'imdbId'.\n",
    "* Dropping all other columns and all duplicate rows.\n",
    "* 'title' and 'original_title' columns have more duplicates, so I select the 'Title' column to keep"
   ]
  },
  {
   "cell_type": "code",
   "execution_count": 4,
   "id": "bb0307d3",
   "metadata": {},
   "outputs": [
    {
     "data": {
      "text/plain": [
       "(39034, 39624)"
      ]
     },
     "execution_count": 4,
     "metadata": {},
     "output_type": "execute_result"
    }
   ],
   "source": [
    "# 'imdbId'\n",
    "data['imdbId'].nunique(), len(data) # <-- best id to use"
   ]
  },
  {
   "cell_type": "code",
   "execution_count": null,
   "id": "664265cc",
   "metadata": {},
   "outputs": [],
   "source": [
    "# 'id'\n",
    "data['id'].nunique(), len(data)"
   ]
  },
  {
   "cell_type": "code",
   "execution_count": 8,
   "id": "86d90765",
   "metadata": {},
   "outputs": [
    {
     "data": {
      "text/plain": [
       "(39034, 76083)"
      ]
     },
     "execution_count": 8,
     "metadata": {},
     "output_type": "execute_result"
    }
   ],
   "source": [
    "# 'imdb_id'\n",
    "data['imdb_id'].nunique(), len(data)"
   ]
  },
  {
   "cell_type": "code",
   "execution_count": 9,
   "id": "5a3b37d4",
   "metadata": {},
   "outputs": [
    {
     "data": {
      "text/plain": [
       "(39012, 76083)"
      ]
     },
     "execution_count": 9,
     "metadata": {},
     "output_type": "execute_result"
    }
   ],
   "source": [
    "# 'Title'\n",
    "data['Title'].nunique(), len(data)"
   ]
  },
  {
   "cell_type": "code",
   "execution_count": 10,
   "id": "29e935d0",
   "metadata": {},
   "outputs": [
    {
     "data": {
      "text/plain": [
       "(37384, 76083)"
      ]
     },
     "execution_count": 10,
     "metadata": {},
     "output_type": "execute_result"
    }
   ],
   "source": [
    "# 'original_title'\n",
    "data['original_title'].nunique(), len(data)"
   ]
  },
  {
   "cell_type": "code",
   "execution_count": 11,
   "id": "c7a4caed",
   "metadata": {},
   "outputs": [
    {
     "data": {
      "text/plain": [
       "(36468, 76083)"
      ]
     },
     "execution_count": 11,
     "metadata": {},
     "output_type": "execute_result"
    }
   ],
   "source": [
    "# 'title'\n",
    "data['title'].nunique(), len(data)"
   ]
  },
  {
   "cell_type": "markdown",
   "id": "cd50ee30",
   "metadata": {},
   "source": [
    "**NOTE:** 'Title', 'title', and 'original_title' are not the same. 'Title' is more unique, but includes the year. 'orgininal_title' is the cleaner representations, but it appears to have overlaps (i.e. there are movies with the same name that have been released in different years."
   ]
  },
  {
   "cell_type": "code",
   "execution_count": 4,
   "id": "5dd8adf6",
   "metadata": {},
   "outputs": [
    {
     "data": {
      "text/plain": [
       "39034"
      ]
     },
     "execution_count": 4,
     "metadata": {},
     "output_type": "execute_result"
    }
   ],
   "source": [
    "len(data.drop_duplicates())"
   ]
  },
  {
   "cell_type": "code",
   "execution_count": null,
   "id": "adf79065",
   "metadata": {},
   "outputs": [],
   "source": [
    "data = data.drop_duplicates()\n",
    "bad_cols = ['id', 'imdb_id', 'title', 'original_title']\n",
    "data = data.drop(bad_cols, axis=1)"
   ]
  },
  {
   "cell_type": "markdown",
   "id": "41c66292",
   "metadata": {},
   "source": [
    "## Step 2: Bool/Str to Numeric Transformations"
   ]
  },
  {
   "cell_type": "markdown",
   "id": "a21e42ac",
   "metadata": {},
   "source": [
    "### adult\n",
    "bool --> binary\n",
    "* False : 0\n",
    "* True: 1"
   ]
  },
  {
   "cell_type": "code",
   "execution_count": 5,
   "id": "3a4a0b51",
   "metadata": {},
   "outputs": [],
   "source": [
    "n_adult = [0 if x is False else 1 for x in data['adult']]\n",
    "data['adult'] = n_adult"
   ]
  },
  {
   "cell_type": "code",
   "execution_count": 6,
   "id": "50b2ce77",
   "metadata": {},
   "outputs": [],
   "source": [
    "data['adult'] = data['adult'].astype(float)"
   ]
  },
  {
   "cell_type": "code",
   "execution_count": 7,
   "id": "72f1e873",
   "metadata": {},
   "outputs": [
    {
     "data": {
      "text/plain": [
       "39624"
      ]
     },
     "execution_count": 7,
     "metadata": {},
     "output_type": "execute_result"
    }
   ],
   "source": [
    "len(data)"
   ]
  },
  {
   "cell_type": "markdown",
   "id": "b6602a7b",
   "metadata": {},
   "source": [
    "### original_language"
   ]
  },
  {
   "cell_type": "code",
   "execution_count": 8,
   "id": "9fa0cf3f",
   "metadata": {
    "scrolled": true
   },
   "outputs": [
    {
     "data": {
      "text/plain": [
       "array(['en', 'fr', 'zh', 'it', 'fa', 'nl', 'de', 'cn', 'ar', 'es', 'pl',\n",
       "       'hr', 'ru', 'mk', 'ja', 'sv', 'ko', 'sr', 'bn', 'he', 'pt', 'wo',\n",
       "       'hu', 'tl', 'cy', 'vi', 'cs', 'da', 'no', 'ka', 'nb', 'uk', 'xx',\n",
       "       'hi', 'tr', 'el', 'sh', 'ta', 'bo', 'ca', 'fi', 'th', 'sk', 'bs',\n",
       "       'iu', 'is', 'sl', 'ps', 'eo', 'se', 'ro', 'mn', 'bm', 'dz', 'hy',\n",
       "       'zu', 'af', 'la', 'et', 'lt', 'ku', 'fy', 'ur', 'rw', 'id', 'bg',\n",
       "       'mr', 'eu', 'kk', 'ms', 'ml', 'qu', 'uz', 'te', 'am', 'sq', 'jv',\n",
       "       'lv', 'tg', 'ln', 'lo', 'ff', 'ay', 'kn', 'ne', 'pa', 'ky', 'gu',\n",
       "       'gl', 'mi', 'sm', 'mt', 'ik', 'mo'], dtype=object)"
      ]
     },
     "execution_count": 8,
     "metadata": {},
     "output_type": "execute_result"
    }
   ],
   "source": [
    "unq_l = data['original_language'].unique()\n",
    "unq_l"
   ]
  },
  {
   "cell_type": "code",
   "execution_count": 9,
   "id": "fb6c2f5b",
   "metadata": {},
   "outputs": [],
   "source": [
    "lang_dict = {}\n",
    "for i, x in enumerate(unq_l):\n",
    "    lang_dict[x] = i"
   ]
  },
  {
   "cell_type": "code",
   "execution_count": 10,
   "id": "63e26ca0",
   "metadata": {},
   "outputs": [],
   "source": [
    "num_lang = []\n",
    "for _, row in data.iterrows():\n",
    "    idx_ = lang_dict[row['original_language']]\n",
    "    num_lang.append(idx_)"
   ]
  },
  {
   "cell_type": "code",
   "execution_count": 11,
   "id": "8142909c",
   "metadata": {},
   "outputs": [],
   "source": [
    "data['original_language'] = [float(x) for x in num_lang]"
   ]
  },
  {
   "cell_type": "code",
   "execution_count": 12,
   "id": "5991bc52",
   "metadata": {},
   "outputs": [],
   "source": [
    "# saving lang dictionary:\n",
    "lang_f = \"original_language_dict.json\"\n",
    "with open(lang_f, 'w') as outfile:\n",
    "    json.dump(lang_dict, outfile)"
   ]
  },
  {
   "cell_type": "code",
   "execution_count": 13,
   "id": "34c55308",
   "metadata": {},
   "outputs": [
    {
     "data": {
      "text/plain": [
       "39624"
      ]
     },
     "execution_count": 13,
     "metadata": {},
     "output_type": "execute_result"
    }
   ],
   "source": [
    "len(data)"
   ]
  },
  {
   "cell_type": "markdown",
   "id": "d31c550d",
   "metadata": {},
   "source": [
    "## cast \n",
    "* Note: safe to assume that the actors in data['casts']['cast'] are listed in order of importance"
   ]
  },
  {
   "cell_type": "code",
   "execution_count": 17,
   "id": "67044f1b",
   "metadata": {},
   "outputs": [
    {
     "data": {
      "text/plain": [
       "('Total Eclipse (1995)',\n",
       " [{'adult': False,\n",
       "   'gender': 2,\n",
       "   'id': 6193,\n",
       "   'known_for_department': 'Acting',\n",
       "   'name': 'Leonardo DiCaprio',\n",
       "   'original_name': 'Leonardo DiCaprio',\n",
       "   'popularity': 53.453,\n",
       "   'profile_path': '/wo2hJpn04vbtmh0B9utCFdsQhxM.jpg',\n",
       "   'cast_id': 1,\n",
       "   'character': 'Arthur Rimbaud',\n",
       "   'credit_id': '52fe460f9251416c91047b09',\n",
       "   'order': 0},\n",
       "  {'adult': False,\n",
       "   'gender': 2,\n",
       "   'id': 11207,\n",
       "   'known_for_department': 'Acting',\n",
       "   'name': 'David Thewlis',\n",
       "   'original_name': 'David Thewlis',\n",
       "   'popularity': 27.685,\n",
       "   'profile_path': '/sNuYyT8ocLlQr3TdAW9CoKVbCU8.jpg',\n",
       "   'cast_id': 3,\n",
       "   'character': 'Paul Verlaine',\n",
       "   'credit_id': '52fe460f9251416c91047b13',\n",
       "   'order': 1},\n",
       "  {'adult': False,\n",
       "   'gender': 1,\n",
       "   'id': 40938,\n",
       "   'known_for_department': 'Acting',\n",
       "   'name': 'Romane Bohringer',\n",
       "   'original_name': 'Romane Bohringer',\n",
       "   'popularity': 10.468,\n",
       "   'profile_path': '/keVDM0uUbKmo0yOVNrjMuKiH1B2.jpg',\n",
       "   'cast_id': 12,\n",
       "   'character': 'Mathilde Maute',\n",
       "   'credit_id': '52fe460f9251416c91047b47',\n",
       "   'order': 2}])"
      ]
     },
     "execution_count": 17,
     "metadata": {},
     "output_type": "execute_result"
    }
   ],
   "source": [
    "i_ = 200\n",
    "cast0 = ast.literal_eval(data['casts'].iloc[i_])['cast']\n",
    "r0 = sorted(cast0, key = lambda d: d['cast_id'])[:3]\n",
    "t0 = data['Title'].iloc[i_]\n",
    "t0, r0"
   ]
  },
  {
   "cell_type": "markdown",
   "id": "feaa680a",
   "metadata": {},
   "source": [
    "### Analysis of casts information\n",
    "* We try to determine whether we could use Producer and Writier information, as well as Actor\n",
    "    * Ultamitely deciding there are too few movies with Producer and Writer information.\n",
    "* Deciding how many actors to include as features per movie:\n",
    "    * Created the PDF of actor count vs. movies to see how many movies we would lose given a threshold selection.\n",
    "    * We decided to take 3 actors per movie\n",
    "    * There are onlu ~2,500 movies that have less than 3 actors listed"
   ]
  },
  {
   "cell_type": "code",
   "execution_count": 18,
   "id": "0ae613f0",
   "metadata": {},
   "outputs": [
    {
     "name": "stdout",
     "output_type": "stream",
     "text": [
      "movie without cast info:  9355\n",
      "movie without cast info:  13547\n",
      "movie without cast info:  20305\n",
      "movie without cast info:  29077\n"
     ]
    }
   ],
   "source": [
    "num_actors = 0\n",
    "num_prods = 0\n",
    "num_writ = 0\n",
    "for i, row in data.iterrows():\n",
    "    try:\n",
    "        cast = ast.literal_eval(row['casts'])['cast']\n",
    "        types = set([x['known_for_department'] for x in cast])\n",
    "        if 'Acting' in types:\n",
    "            num_actors += 1\n",
    "        if 'Production' in types:\n",
    "            num_prods += 1\n",
    "        if 'Writing' in types:\n",
    "            num_writ += 1\n",
    "    except:\n",
    "        print(f\"movie without cast info:  {i}\")"
   ]
  },
  {
   "cell_type": "code",
   "execution_count": 19,
   "id": "7598e68b",
   "metadata": {},
   "outputs": [
    {
     "data": {
      "text/plain": [
       "(37767, 3866, 4266)"
      ]
     },
     "execution_count": 19,
     "metadata": {},
     "output_type": "execute_result"
    }
   ],
   "source": [
    "num_actors, num_prods, num_writ"
   ]
  },
  {
   "cell_type": "code",
   "execution_count": 14,
   "id": "fe19e773",
   "metadata": {},
   "outputs": [
    {
     "data": {
      "text/plain": [
       "39624"
      ]
     },
     "execution_count": 14,
     "metadata": {},
     "output_type": "execute_result"
    }
   ],
   "source": [
    "len(data)"
   ]
  },
  {
   "cell_type": "code",
   "execution_count": 15,
   "id": "63a6721c",
   "metadata": {},
   "outputs": [],
   "source": [
    "num_actors = []\n",
    "for i, row in data.iterrows():\n",
    "    try:\n",
    "        cast = ast.literal_eval(row['casts'])['cast']\n",
    "        actors = [x for x in cast if x['known_for_department'] == 'Acting']\n",
    "        num_actors.append(len(actors))\n",
    "    except:\n",
    "        num_actors.append(0)"
   ]
  },
  {
   "cell_type": "code",
   "execution_count": 16,
   "id": "87117159",
   "metadata": {},
   "outputs": [
    {
     "data": {
      "text/plain": [
       "19.16931657581264"
      ]
     },
     "execution_count": 16,
     "metadata": {},
     "output_type": "execute_result"
    }
   ],
   "source": [
    "np.mean(num_actors)"
   ]
  },
  {
   "cell_type": "code",
   "execution_count": 24,
   "id": "70b0af50",
   "metadata": {},
   "outputs": [
    {
     "data": {
      "image/png": "[encoded data removed]",
      "text/plain": [
       "<Figure size 640x480 with 1 Axes>"
      ]
     },
     "metadata": {},
     "output_type": "display_data"
    }
   ],
   "source": [
    "import matplotlib.pyplot as plt\n",
    "\n",
    "fig, axs = plt.subplots(1, 1, tight_layout=True)\n",
    "axs.hist(num_actors, bins=100)\n",
    "plt.title(\"Distribution of movies based of # actors in the cast\")\n",
    "plt.xlabel(\"Number of actors\")\n",
    "plt.ylabel(\"Number of movies\")\n",
    "# plt.xlim([0,10])\n",
    "plt.show()"
   ]
  },
  {
   "cell_type": "code",
   "execution_count": 25,
   "id": "c15c5d59",
   "metadata": {},
   "outputs": [
    {
     "data": {
      "image/png": "[encoded data removed]",
      "text/plain": [
       "<Figure size 640x480 with 1 Axes>"
      ]
     },
     "metadata": {},
     "output_type": "display_data"
    }
   ],
   "source": [
    "fig, axs = plt.subplots(1, 1, tight_layout=True)\n",
    "axs.hist(num_actors, bins=300)\n",
    "plt.title(\"Distribution of movies based of # actors in the cast\")\n",
    "plt.xlabel(\"Number of actors\")\n",
    "plt.ylabel(\"Number of movies\")\n",
    "plt.xlim([0,10])\n",
    "plt.show()"
   ]
  },
  {
   "cell_type": "markdown",
   "id": "9d890401",
   "metadata": {},
   "source": [
    "### Notes:\n",
    "* We would only loose ~2,500 movies out of 39,000 if we constrain on each movie having at least 3 actors.\n",
    "* We decided to not use any other department beside acting because they were very sparse."
   ]
  },
  {
   "cell_type": "markdown",
   "id": "a164be0b",
   "metadata": {},
   "source": [
    "### Analysis TODO:\n",
    "* Calculate distribution of actors by the number of movies they appear in\n",
    "* Deside on a \"appearance\" threshold by which we will liter actors\n",
    "* Leave the actor columns empty for now if all that movie's actors get filtered"
   ]
  },
  {
   "cell_type": "code",
   "execution_count": 19,
   "id": "8f6a8acf",
   "metadata": {},
   "outputs": [
    {
     "data": {
      "text/plain": [
       "39620"
      ]
     },
     "execution_count": 19,
     "metadata": {},
     "output_type": "execute_result"
    }
   ],
   "source": [
    "data = data[data['casts'].notna()]\n",
    "len(data)"
   ]
  },
  {
   "cell_type": "markdown",
   "id": "218210f5",
   "metadata": {},
   "source": [
    "#### Top 3 Actors\n",
    "* Creates a dictionary of size 43,116"
   ]
  },
  {
   "cell_type": "code",
   "execution_count": 20,
   "id": "fbc05eb5",
   "metadata": {},
   "outputs": [],
   "source": [
    "new_actor_col_t3 = []\n",
    "for i, row in data.iterrows():\n",
    "#     try:\n",
    "    cast = ast.literal_eval(row['casts'])['cast']\n",
    "    actors_ = [x['name'] for x in cast if x['known_for_department'] == 'Acting'][:3]\n",
    "    new_actor_col_t3.append(actors_)\n",
    "#     except:\n",
    "#         actors.append(pd.NA)"
   ]
  },
  {
   "cell_type": "code",
   "execution_count": 21,
   "id": "5288064b",
   "metadata": {},
   "outputs": [
    {
     "data": {
      "text/plain": [
       "(39620, 39620)"
      ]
     },
     "execution_count": 21,
     "metadata": {},
     "output_type": "execute_result"
    }
   ],
   "source": [
    "len(new_actor_col_t3), len(data)"
   ]
  },
  {
   "cell_type": "code",
   "execution_count": 22,
   "id": "0b6003b0",
   "metadata": {},
   "outputs": [
    {
     "data": {
      "text/plain": [
       "['Tom Hanks', 'Tim Allen', 'Don Rickles']"
      ]
     },
     "execution_count": 22,
     "metadata": {},
     "output_type": "execute_result"
    }
   ],
   "source": [
    "new_actor_col_t3[0]"
   ]
  },
  {
   "cell_type": "code",
   "execution_count": 23,
   "id": "f7427514",
   "metadata": {},
   "outputs": [
    {
     "data": {
      "text/plain": [
       "43116"
      ]
     },
     "execution_count": 23,
     "metadata": {},
     "output_type": "execute_result"
    }
   ],
   "source": [
    "all_unique_actors_t3 = set([item for sublist in new_actor_col_t3 for item in sublist])\n",
    "len(all_unique_actors_t3)"
   ]
  },
  {
   "cell_type": "code",
   "execution_count": 24,
   "id": "71222df7",
   "metadata": {},
   "outputs": [],
   "source": [
    "actor_dict_t3 = {}\n",
    "for i, x in enumerate(all_unique_actors_t3):\n",
    "    actor_dict_t3[x] = i"
   ]
  },
  {
   "cell_type": "code",
   "execution_count": 25,
   "id": "7559638d",
   "metadata": {},
   "outputs": [],
   "source": [
    "# saving actor dictionary:\n",
    "act_f_t3 = \"actors_top3_dict.json\"\n",
    "with open(act_f_t3, 'w') as outfile:\n",
    "    json.dump(actor_dict_t3, outfile)"
   ]
  },
  {
   "cell_type": "markdown",
   "id": "0d150f59",
   "metadata": {},
   "source": [
    "#### Looking at distribution of actor features in movie dataset"
   ]
  },
  {
   "cell_type": "code",
   "execution_count": 26,
   "id": "0f585059",
   "metadata": {},
   "outputs": [],
   "source": [
    "d_ = pd.Series([item for sublist in new_actor_col_t3 for item in sublist])"
   ]
  },
  {
   "cell_type": "code",
   "execution_count": 27,
   "id": "93a1e0ba",
   "metadata": {},
   "outputs": [
    {
     "data": {
      "text/plain": [
       "<AxesSubplot: >"
      ]
     },
     "execution_count": 27,
     "metadata": {},
     "output_type": "execute_result"
    },
    {
     "data": {
      "image/png": "[encoded data removed]",
      "text/plain": [
       "<Figure size 1000x500 with 1 Axes>"
      ]
     },
     "metadata": {},
     "output_type": "display_data"
    }
   ],
   "source": [
    "plt.rcParams.update({'font.size': 6})\n",
    "d_.value_counts()[:500].plot(kind='bar', figsize=(10,5), rot=45)"
   ]
  },
  {
   "cell_type": "markdown",
   "id": "c4148c19",
   "metadata": {},
   "source": [
    "#### Top 2 Actors\n",
    "* Creates a dictionary of size 30168"
   ]
  },
  {
   "cell_type": "code",
   "execution_count": 28,
   "id": "5dac6217",
   "metadata": {},
   "outputs": [],
   "source": [
    "new_actor_col_t2 = []\n",
    "for i, row in data.iterrows():\n",
    "    cast = ast.literal_eval(row['casts'])['cast']\n",
    "    actors_ = [x['name'] for x in cast if x['known_for_department'] == 'Acting'][:2]\n",
    "    new_actor_col_t2.append(actors_)"
   ]
  },
  {
   "cell_type": "code",
   "execution_count": 29,
   "id": "0abb1ea2",
   "metadata": {},
   "outputs": [
    {
     "data": {
      "text/plain": [
       "(39620, 39620)"
      ]
     },
     "execution_count": 29,
     "metadata": {},
     "output_type": "execute_result"
    }
   ],
   "source": [
    "len(new_actor_col_t2), len(data)"
   ]
  },
  {
   "cell_type": "code",
   "execution_count": 30,
   "id": "5ca9af49",
   "metadata": {},
   "outputs": [
    {
     "data": {
      "text/plain": [
       "['Tom Hanks', 'Tim Allen']"
      ]
     },
     "execution_count": 30,
     "metadata": {},
     "output_type": "execute_result"
    }
   ],
   "source": [
    "new_actor_col_t2[0]"
   ]
  },
  {
   "cell_type": "code",
   "execution_count": 31,
   "id": "b8f28dee",
   "metadata": {},
   "outputs": [
    {
     "data": {
      "text/plain": [
       "30168"
      ]
     },
     "execution_count": 31,
     "metadata": {},
     "output_type": "execute_result"
    }
   ],
   "source": [
    "all_unique_actors_t2 = set([item for sublist in new_actor_col_t2 for item in sublist])\n",
    "len(all_unique_actors_t2)"
   ]
  },
  {
   "cell_type": "code",
   "execution_count": 32,
   "id": "74dd208c",
   "metadata": {},
   "outputs": [],
   "source": [
    "actor_dict_t2 = {}\n",
    "for i, x in enumerate(all_unique_actors_t2):\n",
    "    actor_dict_t2[x] = i"
   ]
  },
  {
   "cell_type": "code",
   "execution_count": 33,
   "id": "0d979118",
   "metadata": {},
   "outputs": [],
   "source": [
    "# saving actor dictionary:\n",
    "act_f_t2 = \"actors_top2_dict.json\"\n",
    "with open(act_f_t2, 'w') as outfile:\n",
    "    json.dump(actor_dict_t2, outfile)"
   ]
  },
  {
   "cell_type": "markdown",
   "id": "e65db680",
   "metadata": {},
   "source": [
    "#### Top 1 Actor\n",
    "* Creates a dictionary of size 16388"
   ]
  },
  {
   "cell_type": "code",
   "execution_count": 34,
   "id": "6addcd8b",
   "metadata": {},
   "outputs": [],
   "source": [
    "new_actor_col_t1 = []\n",
    "for i, row in data.iterrows():\n",
    "    cast = ast.literal_eval(row['casts'])['cast']\n",
    "    actors_ = [x['name'] for x in cast if x['known_for_department'] == 'Acting'][:1]\n",
    "    new_actor_col_t1.append(actors_)"
   ]
  },
  {
   "cell_type": "code",
   "execution_count": 35,
   "id": "6ada660d",
   "metadata": {},
   "outputs": [
    {
     "data": {
      "text/plain": [
       "(39620, 39620)"
      ]
     },
     "execution_count": 35,
     "metadata": {},
     "output_type": "execute_result"
    }
   ],
   "source": [
    "len(new_actor_col_t1), len(data)"
   ]
  },
  {
   "cell_type": "code",
   "execution_count": 36,
   "id": "6df69dd2",
   "metadata": {},
   "outputs": [
    {
     "data": {
      "text/plain": [
       "['Tom Hanks']"
      ]
     },
     "execution_count": 36,
     "metadata": {},
     "output_type": "execute_result"
    }
   ],
   "source": [
    "new_actor_col_t1[0]"
   ]
  },
  {
   "cell_type": "code",
   "execution_count": 37,
   "id": "68e32cf6",
   "metadata": {},
   "outputs": [
    {
     "data": {
      "text/plain": [
       "16388"
      ]
     },
     "execution_count": 37,
     "metadata": {},
     "output_type": "execute_result"
    }
   ],
   "source": [
    "all_unique_actors_t1 = set([item for sublist in new_actor_col_t1 for item in sublist])\n",
    "len(all_unique_actors_t1)"
   ]
  },
  {
   "cell_type": "code",
   "execution_count": 38,
   "id": "3c3735c3",
   "metadata": {},
   "outputs": [],
   "source": [
    "actor_dict_t1 = {}\n",
    "for i, x in enumerate(all_unique_actors_t1):\n",
    "    actor_dict_t1[x] = i"
   ]
  },
  {
   "cell_type": "code",
   "execution_count": 39,
   "id": "9f500645",
   "metadata": {},
   "outputs": [],
   "source": [
    "# saving actor dictionary:\n",
    "act_f_t1 = \"actors_top1_dict.json\"\n",
    "with open(act_f_t1, 'w') as outfile:\n",
    "    json.dump(actor_dict_t1, outfile)"
   ]
  },
  {
   "cell_type": "code",
   "execution_count": 40,
   "id": "b8ccc218",
   "metadata": {},
   "outputs": [
    {
     "data": {
      "text/html": [
       "<div>\n",
       "<style scoped>\n",
       "    .dataframe tbody tr th:only-of-type {\n",
       "        vertical-align: middle;\n",
       "    }\n",
       "\n",
       "    .dataframe tbody tr th {\n",
       "        vertical-align: top;\n",
       "    }\n",
       "\n",
       "    .dataframe thead th {\n",
       "        text-align: right;\n",
       "    }\n",
       "</style>\n",
       "<table border=\"1\" class=\"dataframe\">\n",
       "  <thead>\n",
       "    <tr style=\"text-align: right;\">\n",
       "      <th></th>\n",
       "      <th>Title</th>\n",
       "      <th>imdbId</th>\n",
       "      <th>adult</th>\n",
       "      <th>budget</th>\n",
       "      <th>genres</th>\n",
       "      <th>original_language</th>\n",
       "      <th>original_title</th>\n",
       "      <th>popularity</th>\n",
       "      <th>production_companies</th>\n",
       "      <th>release_date</th>\n",
       "      <th>revenue</th>\n",
       "      <th>runtime</th>\n",
       "      <th>tagline</th>\n",
       "      <th>vote_average</th>\n",
       "      <th>vote_count</th>\n",
       "      <th>casts</th>\n",
       "      <th>keywords</th>\n",
       "      <th>num_releases</th>\n",
       "      <th>num_translations</th>\n",
       "    </tr>\n",
       "  </thead>\n",
       "  <tbody>\n",
       "    <tr>\n",
       "      <th>0</th>\n",
       "      <td>Toy Story (1995)</td>\n",
       "      <td>114709</td>\n",
       "      <td>0.0</td>\n",
       "      <td>1.344100</td>\n",
       "      <td>[{'id': 16, 'name': 'Animation'}, {'id': 12, '...</td>\n",
       "      <td>0.0</td>\n",
       "      <td>Toy Story</td>\n",
       "      <td>13.233161</td>\n",
       "      <td>[{'id': 3, 'logo_path': '/1TjvGVDMYsj6JBxOAkUH...</td>\n",
       "      <td>1995-10-30</td>\n",
       "      <td>5.243183</td>\n",
       "      <td>-0.554372</td>\n",
       "      <td>NaN</td>\n",
       "      <td>1.516530</td>\n",
       "      <td>11.230518</td>\n",
       "      <td>{'cast': [{'adult': False, 'gender': 2, 'id': ...</td>\n",
       "      <td>{'keywords': [{'id': 779, 'name': 'martial art...</td>\n",
       "      <td>2.198140</td>\n",
       "      <td>3.380860</td>\n",
       "    </tr>\n",
       "    <tr>\n",
       "      <th>1</th>\n",
       "      <td>Jumanji (1995)</td>\n",
       "      <td>113497</td>\n",
       "      <td>0.0</td>\n",
       "      <td>3.233367</td>\n",
       "      <td>[{'id': 12, 'name': 'Adventure'}, {'id': 14, '...</td>\n",
       "      <td>0.0</td>\n",
       "      <td>Jumanji</td>\n",
       "      <td>0.497344</td>\n",
       "      <td>[{'id': 559, 'logo_path': '/jqWioYeGSyTLuHth01...</td>\n",
       "      <td>1995-12-15</td>\n",
       "      <td>3.629983</td>\n",
       "      <td>0.258067</td>\n",
       "      <td>Roll the dice and unleash the excitement!</td>\n",
       "      <td>0.933025</td>\n",
       "      <td>6.413346</td>\n",
       "      <td>{'cast': [{'adult': False, 'gender': 2, 'id': ...</td>\n",
       "      <td>{'keywords': [{'id': 7035, 'name': 'giant inse...</td>\n",
       "      <td>3.041993</td>\n",
       "      <td>2.978730</td>\n",
       "    </tr>\n",
       "    <tr>\n",
       "      <th>2</th>\n",
       "      <td>Grumpier Old Men (1995)</td>\n",
       "      <td>113228</td>\n",
       "      <td>0.0</td>\n",
       "      <td>1.074205</td>\n",
       "      <td>[{'id': 10749, 'name': 'Romance'}, {'id': 35, ...</td>\n",
       "      <td>0.0</td>\n",
       "      <td>Grumpier Old Men</td>\n",
       "      <td>0.061151</td>\n",
       "      <td>[{'id': 174, 'logo_path': '/IuAlhI9eVC9Z8UQWOI...</td>\n",
       "      <td>1995-12-22</td>\n",
       "      <td>0.842709</td>\n",
       "      <td>0.152097</td>\n",
       "      <td>Still Yelling. Still Fighting. Still Ready for...</td>\n",
       "      <td>0.293721</td>\n",
       "      <td>-0.038351</td>\n",
       "      <td>{'cast': [{'adult': False, 'gender': 2, 'id': ...</td>\n",
       "      <td>{'keywords': [{'id': 1495, 'name': 'fishing'},...</td>\n",
       "      <td>0.148783</td>\n",
       "      <td>1.370211</td>\n",
       "    </tr>\n",
       "    <tr>\n",
       "      <th>3</th>\n",
       "      <td>Waiting to Exhale (1995)</td>\n",
       "      <td>114885</td>\n",
       "      <td>0.0</td>\n",
       "      <td>0.588393</td>\n",
       "      <td>[{'id': 35, 'name': 'Comedy'}, {'id': 18, 'nam...</td>\n",
       "      <td>0.0</td>\n",
       "      <td>Waiting to Exhale</td>\n",
       "      <td>0.180840</td>\n",
       "      <td>[{'id': 25, 'logo_path': '/qZCc1lty5FzX30aOCVR...</td>\n",
       "      <td>1995-12-22</td>\n",
       "      <td>0.987697</td>\n",
       "      <td>1.070506</td>\n",
       "      <td>Friends are the people who let you be yourself...</td>\n",
       "      <td>0.188499</td>\n",
       "      <td>-0.167241</td>\n",
       "      <td>{'cast': [{'adult': False, 'gender': 1, 'id': ...</td>\n",
       "      <td>{'keywords': [{'id': 818, 'name': 'based on no...</td>\n",
       "      <td>0.148783</td>\n",
       "      <td>0.465419</td>\n",
       "    </tr>\n",
       "    <tr>\n",
       "      <th>4</th>\n",
       "      <td>Father of the Bride Part II (1995)</td>\n",
       "      <td>113041</td>\n",
       "      <td>0.0</td>\n",
       "      <td>-0.275271</td>\n",
       "      <td>[{'id': 35, 'name': 'Comedy'}, {'id': 10751, '...</td>\n",
       "      <td>0.0</td>\n",
       "      <td>Father of the Bride Part II</td>\n",
       "      <td>0.311671</td>\n",
       "      <td>[{'id': 5842, 'logo_path': None, 'name': 'Sand...</td>\n",
       "      <td>1995-12-08</td>\n",
       "      <td>0.916922</td>\n",
       "      <td>0.328714</td>\n",
       "      <td>Just When His World Is Back To Normal... He's ...</td>\n",
       "      <td>0.126322</td>\n",
       "      <td>0.176225</td>\n",
       "      <td>{'cast': [{'adult': False, 'gender': 2, 'id': ...</td>\n",
       "      <td>{'keywords': [{'id': 970, 'name': 'parent chil...</td>\n",
       "      <td>0.510435</td>\n",
       "      <td>1.671808</td>\n",
       "    </tr>\n",
       "  </tbody>\n",
       "</table>\n",
       "</div>"
      ],
      "text/plain": [
       "                                Title  imdbId  adult    budget  \\\n",
       "0                    Toy Story (1995)  114709    0.0  1.344100   \n",
       "1                      Jumanji (1995)  113497    0.0  3.233367   \n",
       "2             Grumpier Old Men (1995)  113228    0.0  1.074205   \n",
       "3            Waiting to Exhale (1995)  114885    0.0  0.588393   \n",
       "4  Father of the Bride Part II (1995)  113041    0.0 -0.275271   \n",
       "\n",
       "                                              genres  original_language  \\\n",
       "0  [{'id': 16, 'name': 'Animation'}, {'id': 12, '...                0.0   \n",
       "1  [{'id': 12, 'name': 'Adventure'}, {'id': 14, '...                0.0   \n",
       "2  [{'id': 10749, 'name': 'Romance'}, {'id': 35, ...                0.0   \n",
       "3  [{'id': 35, 'name': 'Comedy'}, {'id': 18, 'nam...                0.0   \n",
       "4  [{'id': 35, 'name': 'Comedy'}, {'id': 10751, '...                0.0   \n",
       "\n",
       "                original_title  popularity  \\\n",
       "0                    Toy Story   13.233161   \n",
       "1                      Jumanji    0.497344   \n",
       "2             Grumpier Old Men    0.061151   \n",
       "3            Waiting to Exhale    0.180840   \n",
       "4  Father of the Bride Part II    0.311671   \n",
       "\n",
       "                                production_companies release_date   revenue  \\\n",
       "0  [{'id': 3, 'logo_path': '/1TjvGVDMYsj6JBxOAkUH...   1995-10-30  5.243183   \n",
       "1  [{'id': 559, 'logo_path': '/jqWioYeGSyTLuHth01...   1995-12-15  3.629983   \n",
       "2  [{'id': 174, 'logo_path': '/IuAlhI9eVC9Z8UQWOI...   1995-12-22  0.842709   \n",
       "3  [{'id': 25, 'logo_path': '/qZCc1lty5FzX30aOCVR...   1995-12-22  0.987697   \n",
       "4  [{'id': 5842, 'logo_path': None, 'name': 'Sand...   1995-12-08  0.916922   \n",
       "\n",
       "    runtime                                            tagline  vote_average  \\\n",
       "0 -0.554372                                                NaN      1.516530   \n",
       "1  0.258067          Roll the dice and unleash the excitement!      0.933025   \n",
       "2  0.152097  Still Yelling. Still Fighting. Still Ready for...      0.293721   \n",
       "3  1.070506  Friends are the people who let you be yourself...      0.188499   \n",
       "4  0.328714  Just When His World Is Back To Normal... He's ...      0.126322   \n",
       "\n",
       "   vote_count                                              casts  \\\n",
       "0   11.230518  {'cast': [{'adult': False, 'gender': 2, 'id': ...   \n",
       "1    6.413346  {'cast': [{'adult': False, 'gender': 2, 'id': ...   \n",
       "2   -0.038351  {'cast': [{'adult': False, 'gender': 2, 'id': ...   \n",
       "3   -0.167241  {'cast': [{'adult': False, 'gender': 1, 'id': ...   \n",
       "4    0.176225  {'cast': [{'adult': False, 'gender': 2, 'id': ...   \n",
       "\n",
       "                                            keywords  num_releases  \\\n",
       "0  {'keywords': [{'id': 779, 'name': 'martial art...      2.198140   \n",
       "1  {'keywords': [{'id': 7035, 'name': 'giant inse...      3.041993   \n",
       "2  {'keywords': [{'id': 1495, 'name': 'fishing'},...      0.148783   \n",
       "3  {'keywords': [{'id': 818, 'name': 'based on no...      0.148783   \n",
       "4  {'keywords': [{'id': 970, 'name': 'parent chil...      0.510435   \n",
       "\n",
       "   num_translations  \n",
       "0          3.380860  \n",
       "1          2.978730  \n",
       "2          1.370211  \n",
       "3          0.465419  \n",
       "4          1.671808  "
      ]
     },
     "execution_count": 40,
     "metadata": {},
     "output_type": "execute_result"
    }
   ],
   "source": [
    "# data = data.rename(columns={'Actors': 'Actors_top3'})\n",
    "data.head()"
   ]
  },
  {
   "cell_type": "code",
   "execution_count": 41,
   "id": "7cab82b3",
   "metadata": {},
   "outputs": [
    {
     "data": {
      "text/plain": [
       "39620"
      ]
     },
     "execution_count": 41,
     "metadata": {},
     "output_type": "execute_result"
    }
   ],
   "source": [
    "len(data)"
   ]
  },
  {
   "cell_type": "markdown",
   "id": "2e07c1b6",
   "metadata": {},
   "source": [
    "#### Augmented Actor Dictionary\n",
    "Threshold at 40 appearances creates a dictionary of size 136"
   ]
  },
  {
   "cell_type": "code",
   "execution_count": 42,
   "id": "43e0c62e",
   "metadata": {
    "scrolled": true
   },
   "outputs": [
    {
     "data": {
      "text/html": [
       "<div>\n",
       "<style scoped>\n",
       "    .dataframe tbody tr th:only-of-type {\n",
       "        vertical-align: middle;\n",
       "    }\n",
       "\n",
       "    .dataframe tbody tr th {\n",
       "        vertical-align: top;\n",
       "    }\n",
       "\n",
       "    .dataframe thead th {\n",
       "        text-align: right;\n",
       "    }\n",
       "</style>\n",
       "<table border=\"1\" class=\"dataframe\">\n",
       "  <thead>\n",
       "    <tr style=\"text-align: right;\">\n",
       "      <th></th>\n",
       "      <th>actors</th>\n",
       "      <th>counts</th>\n",
       "    </tr>\n",
       "  </thead>\n",
       "  <tbody>\n",
       "    <tr>\n",
       "      <th>0</th>\n",
       "      <td>John Wayne</td>\n",
       "      <td>111</td>\n",
       "    </tr>\n",
       "    <tr>\n",
       "      <th>1</th>\n",
       "      <td>Robert De Niro</td>\n",
       "      <td>81</td>\n",
       "    </tr>\n",
       "    <tr>\n",
       "      <th>2</th>\n",
       "      <td>Michael Caine</td>\n",
       "      <td>80</td>\n",
       "    </tr>\n",
       "    <tr>\n",
       "      <th>3</th>\n",
       "      <td>Gérard Depardieu</td>\n",
       "      <td>77</td>\n",
       "    </tr>\n",
       "    <tr>\n",
       "      <th>4</th>\n",
       "      <td>Jackie Chan</td>\n",
       "      <td>73</td>\n",
       "    </tr>\n",
       "  </tbody>\n",
       "</table>\n",
       "</div>"
      ],
      "text/plain": [
       "             actors  counts\n",
       "0        John Wayne     111\n",
       "1    Robert De Niro      81\n",
       "2     Michael Caine      80\n",
       "3  Gérard Depardieu      77\n",
       "4       Jackie Chan      73"
      ]
     },
     "execution_count": 42,
     "metadata": {},
     "output_type": "execute_result"
    }
   ],
   "source": [
    "df_ = d_.value_counts().rename_axis('actors').reset_index(name='counts')\n",
    "df_.head()"
   ]
  },
  {
   "cell_type": "code",
   "execution_count": 43,
   "id": "8c4b0854",
   "metadata": {},
   "outputs": [
    {
     "data": {
      "text/plain": [
       "136"
      ]
     },
     "execution_count": 43,
     "metadata": {},
     "output_type": "execute_result"
    }
   ],
   "source": [
    "len(df_.loc[df_['counts'] >= 40])"
   ]
  },
  {
   "cell_type": "code",
   "execution_count": 44,
   "id": "beba2f2f",
   "metadata": {},
   "outputs": [],
   "source": [
    "act_new = []\n",
    "for i, row in df_.iterrows():\n",
    "    if row['counts'] >= 40:\n",
    "        act_new.append(row['actors'])\n",
    "    else:\n",
    "        act_new.append('other')\n",
    "actors_in_dict = set(act_new)"
   ]
  },
  {
   "cell_type": "code",
   "execution_count": 45,
   "id": "5c94ece4",
   "metadata": {},
   "outputs": [],
   "source": [
    "aug_actor_dict = {}\n",
    "for i, x in enumerate(actors_in_dict):\n",
    "    aug_actor_dict[x] = i"
   ]
  },
  {
   "cell_type": "code",
   "execution_count": 113,
   "id": "2ea4b07f",
   "metadata": {},
   "outputs": [],
   "source": [
    "# saving actor dictionary:\n",
    "act_f = \"augmented_actors_dict.json\"\n",
    "with open(act_f, 'w') as outfile:\n",
    "    json.dump(aug_actor_dict, outfile)"
   ]
  },
  {
   "cell_type": "markdown",
   "id": "88a88c02",
   "metadata": {},
   "source": [
    "#### Saving encoded actor ids per column:"
   ]
  },
  {
   "cell_type": "code",
   "execution_count": 51,
   "id": "1a56aaba",
   "metadata": {},
   "outputs": [],
   "source": [
    "# top 3\n",
    "act_idx_t3 = []\n",
    "act_idx_t2 = []\n",
    "act_idx_t1 = []\n",
    "\n",
    "for i in range(len(data)):\n",
    "    t3_ = [aug_actor_dict[x] if x in act_new else aug_actor_dict['other'] for x in new_actor_col_t3[i]]\n",
    "    t2_ = [aug_actor_dict[x] if x in act_new else aug_actor_dict['other'] for x in new_actor_col_t2[i]]\n",
    "    t1_ = [aug_actor_dict[x] if x in act_new else aug_actor_dict['other'] for x in new_actor_col_t1[i]]\n",
    "    \n",
    "    act_idx_t3.append(t3_)\n",
    "    act_idx_t2.append(t2_)\n",
    "    act_idx_t1.append(t1_)"
   ]
  },
  {
   "cell_type": "code",
   "execution_count": 52,
   "id": "37919c1e",
   "metadata": {},
   "outputs": [],
   "source": [
    "data['Actors_top3'] = act_idx_t3\n",
    "data['Actors_top2'] = act_idx_t2\n",
    "data['Actors_top1'] = act_idx_t1"
   ]
  },
  {
   "cell_type": "code",
   "execution_count": 53,
   "id": "f1217d0d",
   "metadata": {},
   "outputs": [
    {
     "data": {
      "text/html": [
       "<div>\n",
       "<style scoped>\n",
       "    .dataframe tbody tr th:only-of-type {\n",
       "        vertical-align: middle;\n",
       "    }\n",
       "\n",
       "    .dataframe tbody tr th {\n",
       "        vertical-align: top;\n",
       "    }\n",
       "\n",
       "    .dataframe thead th {\n",
       "        text-align: right;\n",
       "    }\n",
       "</style>\n",
       "<table border=\"1\" class=\"dataframe\">\n",
       "  <thead>\n",
       "    <tr style=\"text-align: right;\">\n",
       "      <th></th>\n",
       "      <th>Title</th>\n",
       "      <th>imdbId</th>\n",
       "      <th>adult</th>\n",
       "      <th>budget</th>\n",
       "      <th>genres</th>\n",
       "      <th>original_language</th>\n",
       "      <th>original_title</th>\n",
       "      <th>popularity</th>\n",
       "      <th>production_companies</th>\n",
       "      <th>release_date</th>\n",
       "      <th>...</th>\n",
       "      <th>tagline</th>\n",
       "      <th>vote_average</th>\n",
       "      <th>vote_count</th>\n",
       "      <th>casts</th>\n",
       "      <th>keywords</th>\n",
       "      <th>num_releases</th>\n",
       "      <th>num_translations</th>\n",
       "      <th>Actors_top3</th>\n",
       "      <th>Actors_top2</th>\n",
       "      <th>Actors_top1</th>\n",
       "    </tr>\n",
       "  </thead>\n",
       "  <tbody>\n",
       "    <tr>\n",
       "      <th>0</th>\n",
       "      <td>Toy Story (1995)</td>\n",
       "      <td>114709</td>\n",
       "      <td>0.0</td>\n",
       "      <td>1.344100</td>\n",
       "      <td>[{'id': 16, 'name': 'Animation'}, {'id': 12, '...</td>\n",
       "      <td>0.0</td>\n",
       "      <td>Toy Story</td>\n",
       "      <td>13.233161</td>\n",
       "      <td>[{'id': 3, 'logo_path': '/1TjvGVDMYsj6JBxOAkUH...</td>\n",
       "      <td>1995-10-30</td>\n",
       "      <td>...</td>\n",
       "      <td>NaN</td>\n",
       "      <td>1.516530</td>\n",
       "      <td>11.230518</td>\n",
       "      <td>{'cast': [{'adult': False, 'gender': 2, 'id': ...</td>\n",
       "      <td>{'keywords': [{'id': 779, 'name': 'martial art...</td>\n",
       "      <td>2.198140</td>\n",
       "      <td>3.380860</td>\n",
       "      <td>[128, 114, 114]</td>\n",
       "      <td>[128, 114]</td>\n",
       "      <td>[128]</td>\n",
       "    </tr>\n",
       "    <tr>\n",
       "      <th>1</th>\n",
       "      <td>Jumanji (1995)</td>\n",
       "      <td>113497</td>\n",
       "      <td>0.0</td>\n",
       "      <td>3.233367</td>\n",
       "      <td>[{'id': 12, 'name': 'Adventure'}, {'id': 14, '...</td>\n",
       "      <td>0.0</td>\n",
       "      <td>Jumanji</td>\n",
       "      <td>0.497344</td>\n",
       "      <td>[{'id': 559, 'logo_path': '/jqWioYeGSyTLuHth01...</td>\n",
       "      <td>1995-12-15</td>\n",
       "      <td>...</td>\n",
       "      <td>Roll the dice and unleash the excitement!</td>\n",
       "      <td>0.933025</td>\n",
       "      <td>6.413346</td>\n",
       "      <td>{'cast': [{'adult': False, 'gender': 2, 'id': ...</td>\n",
       "      <td>{'keywords': [{'id': 7035, 'name': 'giant inse...</td>\n",
       "      <td>3.041993</td>\n",
       "      <td>2.978730</td>\n",
       "      <td>[82, 114, 114]</td>\n",
       "      <td>[82, 114]</td>\n",
       "      <td>[82]</td>\n",
       "    </tr>\n",
       "    <tr>\n",
       "      <th>2</th>\n",
       "      <td>Grumpier Old Men (1995)</td>\n",
       "      <td>113228</td>\n",
       "      <td>0.0</td>\n",
       "      <td>1.074205</td>\n",
       "      <td>[{'id': 10749, 'name': 'Romance'}, {'id': 35, ...</td>\n",
       "      <td>0.0</td>\n",
       "      <td>Grumpier Old Men</td>\n",
       "      <td>0.061151</td>\n",
       "      <td>[{'id': 174, 'logo_path': '/IuAlhI9eVC9Z8UQWOI...</td>\n",
       "      <td>1995-12-22</td>\n",
       "      <td>...</td>\n",
       "      <td>Still Yelling. Still Fighting. Still Ready for...</td>\n",
       "      <td>0.293721</td>\n",
       "      <td>-0.038351</td>\n",
       "      <td>{'cast': [{'adult': False, 'gender': 2, 'id': ...</td>\n",
       "      <td>{'keywords': [{'id': 1495, 'name': 'fishing'},...</td>\n",
       "      <td>0.148783</td>\n",
       "      <td>1.370211</td>\n",
       "      <td>[11, 92, 114]</td>\n",
       "      <td>[11, 92]</td>\n",
       "      <td>[11]</td>\n",
       "    </tr>\n",
       "    <tr>\n",
       "      <th>3</th>\n",
       "      <td>Waiting to Exhale (1995)</td>\n",
       "      <td>114885</td>\n",
       "      <td>0.0</td>\n",
       "      <td>0.588393</td>\n",
       "      <td>[{'id': 35, 'name': 'Comedy'}, {'id': 18, 'nam...</td>\n",
       "      <td>0.0</td>\n",
       "      <td>Waiting to Exhale</td>\n",
       "      <td>0.180840</td>\n",
       "      <td>[{'id': 25, 'logo_path': '/qZCc1lty5FzX30aOCVR...</td>\n",
       "      <td>1995-12-22</td>\n",
       "      <td>...</td>\n",
       "      <td>Friends are the people who let you be yourself...</td>\n",
       "      <td>0.188499</td>\n",
       "      <td>-0.167241</td>\n",
       "      <td>{'cast': [{'adult': False, 'gender': 1, 'id': ...</td>\n",
       "      <td>{'keywords': [{'id': 818, 'name': 'based on no...</td>\n",
       "      <td>0.148783</td>\n",
       "      <td>0.465419</td>\n",
       "      <td>[114, 114, 114]</td>\n",
       "      <td>[114, 114]</td>\n",
       "      <td>[114]</td>\n",
       "    </tr>\n",
       "    <tr>\n",
       "      <th>4</th>\n",
       "      <td>Father of the Bride Part II (1995)</td>\n",
       "      <td>113041</td>\n",
       "      <td>0.0</td>\n",
       "      <td>-0.275271</td>\n",
       "      <td>[{'id': 35, 'name': 'Comedy'}, {'id': 10751, '...</td>\n",
       "      <td>0.0</td>\n",
       "      <td>Father of the Bride Part II</td>\n",
       "      <td>0.311671</td>\n",
       "      <td>[{'id': 5842, 'logo_path': None, 'name': 'Sand...</td>\n",
       "      <td>1995-12-08</td>\n",
       "      <td>...</td>\n",
       "      <td>Just When His World Is Back To Normal... He's ...</td>\n",
       "      <td>0.126322</td>\n",
       "      <td>0.176225</td>\n",
       "      <td>{'cast': [{'adult': False, 'gender': 2, 'id': ...</td>\n",
       "      <td>{'keywords': [{'id': 970, 'name': 'parent chil...</td>\n",
       "      <td>0.510435</td>\n",
       "      <td>1.671808</td>\n",
       "      <td>[114, 114, 114]</td>\n",
       "      <td>[114, 114]</td>\n",
       "      <td>[114]</td>\n",
       "    </tr>\n",
       "  </tbody>\n",
       "</table>\n",
       "<p>5 rows × 22 columns</p>\n",
       "</div>"
      ],
      "text/plain": [
       "                                Title  imdbId  adult    budget  \\\n",
       "0                    Toy Story (1995)  114709    0.0  1.344100   \n",
       "1                      Jumanji (1995)  113497    0.0  3.233367   \n",
       "2             Grumpier Old Men (1995)  113228    0.0  1.074205   \n",
       "3            Waiting to Exhale (1995)  114885    0.0  0.588393   \n",
       "4  Father of the Bride Part II (1995)  113041    0.0 -0.275271   \n",
       "\n",
       "                                              genres  original_language  \\\n",
       "0  [{'id': 16, 'name': 'Animation'}, {'id': 12, '...                0.0   \n",
       "1  [{'id': 12, 'name': 'Adventure'}, {'id': 14, '...                0.0   \n",
       "2  [{'id': 10749, 'name': 'Romance'}, {'id': 35, ...                0.0   \n",
       "3  [{'id': 35, 'name': 'Comedy'}, {'id': 18, 'nam...                0.0   \n",
       "4  [{'id': 35, 'name': 'Comedy'}, {'id': 10751, '...                0.0   \n",
       "\n",
       "                original_title  popularity  \\\n",
       "0                    Toy Story   13.233161   \n",
       "1                      Jumanji    0.497344   \n",
       "2             Grumpier Old Men    0.061151   \n",
       "3            Waiting to Exhale    0.180840   \n",
       "4  Father of the Bride Part II    0.311671   \n",
       "\n",
       "                                production_companies release_date  ...  \\\n",
       "0  [{'id': 3, 'logo_path': '/1TjvGVDMYsj6JBxOAkUH...   1995-10-30  ...   \n",
       "1  [{'id': 559, 'logo_path': '/jqWioYeGSyTLuHth01...   1995-12-15  ...   \n",
       "2  [{'id': 174, 'logo_path': '/IuAlhI9eVC9Z8UQWOI...   1995-12-22  ...   \n",
       "3  [{'id': 25, 'logo_path': '/qZCc1lty5FzX30aOCVR...   1995-12-22  ...   \n",
       "4  [{'id': 5842, 'logo_path': None, 'name': 'Sand...   1995-12-08  ...   \n",
       "\n",
       "                                             tagline  vote_average vote_count  \\\n",
       "0                                                NaN      1.516530  11.230518   \n",
       "1          Roll the dice and unleash the excitement!      0.933025   6.413346   \n",
       "2  Still Yelling. Still Fighting. Still Ready for...      0.293721  -0.038351   \n",
       "3  Friends are the people who let you be yourself...      0.188499  -0.167241   \n",
       "4  Just When His World Is Back To Normal... He's ...      0.126322   0.176225   \n",
       "\n",
       "                                               casts  \\\n",
       "0  {'cast': [{'adult': False, 'gender': 2, 'id': ...   \n",
       "1  {'cast': [{'adult': False, 'gender': 2, 'id': ...   \n",
       "2  {'cast': [{'adult': False, 'gender': 2, 'id': ...   \n",
       "3  {'cast': [{'adult': False, 'gender': 1, 'id': ...   \n",
       "4  {'cast': [{'adult': False, 'gender': 2, 'id': ...   \n",
       "\n",
       "                                            keywords num_releases  \\\n",
       "0  {'keywords': [{'id': 779, 'name': 'martial art...     2.198140   \n",
       "1  {'keywords': [{'id': 7035, 'name': 'giant inse...     3.041993   \n",
       "2  {'keywords': [{'id': 1495, 'name': 'fishing'},...     0.148783   \n",
       "3  {'keywords': [{'id': 818, 'name': 'based on no...     0.148783   \n",
       "4  {'keywords': [{'id': 970, 'name': 'parent chil...     0.510435   \n",
       "\n",
       "  num_translations      Actors_top3  Actors_top2 Actors_top1  \n",
       "0         3.380860  [128, 114, 114]   [128, 114]       [128]  \n",
       "1         2.978730   [82, 114, 114]    [82, 114]        [82]  \n",
       "2         1.370211    [11, 92, 114]     [11, 92]        [11]  \n",
       "3         0.465419  [114, 114, 114]   [114, 114]       [114]  \n",
       "4         1.671808  [114, 114, 114]   [114, 114]       [114]  \n",
       "\n",
       "[5 rows x 22 columns]"
      ]
     },
     "execution_count": 53,
     "metadata": {},
     "output_type": "execute_result"
    }
   ],
   "source": [
    "data.head()"
   ]
  },
  {
   "cell_type": "markdown",
   "id": "bfee314a",
   "metadata": {},
   "source": [
    "### release_date"
   ]
  },
  {
   "cell_type": "code",
   "execution_count": 54,
   "id": "d741d257",
   "metadata": {},
   "outputs": [],
   "source": [
    "from datetime import datetime\n",
    "import time"
   ]
  },
  {
   "cell_type": "code",
   "execution_count": 55,
   "id": "64c5b69a",
   "metadata": {},
   "outputs": [],
   "source": [
    "dates = data['release_date'].map(lambda x: datetime.strptime(x, '%Y-%m-%d') if type(x) != float else x)"
   ]
  },
  {
   "cell_type": "code",
   "execution_count": 56,
   "id": "3db55357",
   "metadata": {},
   "outputs": [
    {
     "data": {
      "text/plain": [
       "(Timestamp('1874-12-09 00:00:00'), Timestamp('2022-12-14 00:00:00'))"
      ]
     },
     "execution_count": 56,
     "metadata": {},
     "output_type": "execute_result"
    }
   ],
   "source": [
    "dates.min(), dates.max()"
   ]
  },
  {
   "cell_type": "code",
   "execution_count": 57,
   "id": "89f3987c",
   "metadata": {},
   "outputs": [],
   "source": [
    "decades = dates.map(lambda x: (x.year//10)*10)"
   ]
  },
  {
   "cell_type": "code",
   "execution_count": 58,
   "id": "c8ab873f",
   "metadata": {},
   "outputs": [
    {
     "data": {
      "text/plain": [
       "(1870.0, 2020.0)"
      ]
     },
     "execution_count": 58,
     "metadata": {},
     "output_type": "execute_result"
    }
   ],
   "source": [
    "decades.min(), decades.max()"
   ]
  },
  {
   "cell_type": "code",
   "execution_count": 59,
   "id": "69d23bd1",
   "metadata": {},
   "outputs": [
    {
     "data": {
      "text/plain": [
       "'1870'"
      ]
     },
     "execution_count": 59,
     "metadata": {},
     "output_type": "execute_result"
    }
   ],
   "source": [
    "str(int(decades.min()))"
   ]
  },
  {
   "cell_type": "code",
   "execution_count": 60,
   "id": "51dbe5e0",
   "metadata": {},
   "outputs": [],
   "source": [
    "## working on bucketing dates in decades...\n",
    "date_dict = {\n",
    "    '1870': 0,\n",
    "    '1880': 1,\n",
    "    '1890': 2,\n",
    "    '1900': 3,\n",
    "    '1910': 4,\n",
    "    '1920': 5,\n",
    "    '1930': 6,\n",
    "    '1940': 7,\n",
    "    '1950': 8,\n",
    "    '1960': 9,\n",
    "    '1970': 10,\n",
    "    '1980': 11,\n",
    "    '1990': 12,\n",
    "    '2000': 13,\n",
    "    '2010': 14,\n",
    "    '2020': 15\n",
    "}"
   ]
  },
  {
   "cell_type": "code",
   "execution_count": 61,
   "id": "6190772b",
   "metadata": {},
   "outputs": [],
   "source": [
    "coded_dates = []\n",
    "for d in decades:\n",
    "    if pd.isnull(d):\n",
    "        coded_dates.append(d)\n",
    "    else:\n",
    "        code = date_dict[str(int(d))]\n",
    "        coded_dates.append(code)"
   ]
  },
  {
   "cell_type": "code",
   "execution_count": 62,
   "id": "d09bb691",
   "metadata": {},
   "outputs": [],
   "source": [
    "data['release_date'] = coded_dates"
   ]
  },
  {
   "cell_type": "code",
   "execution_count": 63,
   "id": "b9562a33",
   "metadata": {},
   "outputs": [],
   "source": [
    "# saving date dictionary:\n",
    "date_f = \"release_date_dict.json\"\n",
    "with open(date_f, 'w') as outfile:\n",
    "    json.dump(date_dict, outfile)"
   ]
  },
  {
   "cell_type": "code",
   "execution_count": 64,
   "id": "a844444e",
   "metadata": {},
   "outputs": [
    {
     "data": {
      "text/plain": [
       "39620"
      ]
     },
     "execution_count": 64,
     "metadata": {},
     "output_type": "execute_result"
    }
   ],
   "source": [
    "len(data)"
   ]
  },
  {
   "cell_type": "code",
   "execution_count": 65,
   "id": "28a82d0c",
   "metadata": {},
   "outputs": [
    {
     "data": {
      "text/html": [
       "<div>\n",
       "<style scoped>\n",
       "    .dataframe tbody tr th:only-of-type {\n",
       "        vertical-align: middle;\n",
       "    }\n",
       "\n",
       "    .dataframe tbody tr th {\n",
       "        vertical-align: top;\n",
       "    }\n",
       "\n",
       "    .dataframe thead th {\n",
       "        text-align: right;\n",
       "    }\n",
       "</style>\n",
       "<table border=\"1\" class=\"dataframe\">\n",
       "  <thead>\n",
       "    <tr style=\"text-align: right;\">\n",
       "      <th></th>\n",
       "      <th>Title</th>\n",
       "      <th>imdbId</th>\n",
       "      <th>adult</th>\n",
       "      <th>budget</th>\n",
       "      <th>genres</th>\n",
       "      <th>original_language</th>\n",
       "      <th>original_title</th>\n",
       "      <th>popularity</th>\n",
       "      <th>production_companies</th>\n",
       "      <th>release_date</th>\n",
       "      <th>...</th>\n",
       "      <th>tagline</th>\n",
       "      <th>vote_average</th>\n",
       "      <th>vote_count</th>\n",
       "      <th>casts</th>\n",
       "      <th>keywords</th>\n",
       "      <th>num_releases</th>\n",
       "      <th>num_translations</th>\n",
       "      <th>Actors_top3</th>\n",
       "      <th>Actors_top2</th>\n",
       "      <th>Actors_top1</th>\n",
       "    </tr>\n",
       "  </thead>\n",
       "  <tbody>\n",
       "    <tr>\n",
       "      <th>0</th>\n",
       "      <td>Toy Story (1995)</td>\n",
       "      <td>114709</td>\n",
       "      <td>0.0</td>\n",
       "      <td>1.344100</td>\n",
       "      <td>[{'id': 16, 'name': 'Animation'}, {'id': 12, '...</td>\n",
       "      <td>0.0</td>\n",
       "      <td>Toy Story</td>\n",
       "      <td>13.233161</td>\n",
       "      <td>[{'id': 3, 'logo_path': '/1TjvGVDMYsj6JBxOAkUH...</td>\n",
       "      <td>12.0</td>\n",
       "      <td>...</td>\n",
       "      <td>NaN</td>\n",
       "      <td>1.516530</td>\n",
       "      <td>11.230518</td>\n",
       "      <td>{'cast': [{'adult': False, 'gender': 2, 'id': ...</td>\n",
       "      <td>{'keywords': [{'id': 779, 'name': 'martial art...</td>\n",
       "      <td>2.198140</td>\n",
       "      <td>3.380860</td>\n",
       "      <td>[128, 114, 114]</td>\n",
       "      <td>[128, 114]</td>\n",
       "      <td>[128]</td>\n",
       "    </tr>\n",
       "    <tr>\n",
       "      <th>1</th>\n",
       "      <td>Jumanji (1995)</td>\n",
       "      <td>113497</td>\n",
       "      <td>0.0</td>\n",
       "      <td>3.233367</td>\n",
       "      <td>[{'id': 12, 'name': 'Adventure'}, {'id': 14, '...</td>\n",
       "      <td>0.0</td>\n",
       "      <td>Jumanji</td>\n",
       "      <td>0.497344</td>\n",
       "      <td>[{'id': 559, 'logo_path': '/jqWioYeGSyTLuHth01...</td>\n",
       "      <td>12.0</td>\n",
       "      <td>...</td>\n",
       "      <td>Roll the dice and unleash the excitement!</td>\n",
       "      <td>0.933025</td>\n",
       "      <td>6.413346</td>\n",
       "      <td>{'cast': [{'adult': False, 'gender': 2, 'id': ...</td>\n",
       "      <td>{'keywords': [{'id': 7035, 'name': 'giant inse...</td>\n",
       "      <td>3.041993</td>\n",
       "      <td>2.978730</td>\n",
       "      <td>[82, 114, 114]</td>\n",
       "      <td>[82, 114]</td>\n",
       "      <td>[82]</td>\n",
       "    </tr>\n",
       "    <tr>\n",
       "      <th>2</th>\n",
       "      <td>Grumpier Old Men (1995)</td>\n",
       "      <td>113228</td>\n",
       "      <td>0.0</td>\n",
       "      <td>1.074205</td>\n",
       "      <td>[{'id': 10749, 'name': 'Romance'}, {'id': 35, ...</td>\n",
       "      <td>0.0</td>\n",
       "      <td>Grumpier Old Men</td>\n",
       "      <td>0.061151</td>\n",
       "      <td>[{'id': 174, 'logo_path': '/IuAlhI9eVC9Z8UQWOI...</td>\n",
       "      <td>12.0</td>\n",
       "      <td>...</td>\n",
       "      <td>Still Yelling. Still Fighting. Still Ready for...</td>\n",
       "      <td>0.293721</td>\n",
       "      <td>-0.038351</td>\n",
       "      <td>{'cast': [{'adult': False, 'gender': 2, 'id': ...</td>\n",
       "      <td>{'keywords': [{'id': 1495, 'name': 'fishing'},...</td>\n",
       "      <td>0.148783</td>\n",
       "      <td>1.370211</td>\n",
       "      <td>[11, 92, 114]</td>\n",
       "      <td>[11, 92]</td>\n",
       "      <td>[11]</td>\n",
       "    </tr>\n",
       "    <tr>\n",
       "      <th>3</th>\n",
       "      <td>Waiting to Exhale (1995)</td>\n",
       "      <td>114885</td>\n",
       "      <td>0.0</td>\n",
       "      <td>0.588393</td>\n",
       "      <td>[{'id': 35, 'name': 'Comedy'}, {'id': 18, 'nam...</td>\n",
       "      <td>0.0</td>\n",
       "      <td>Waiting to Exhale</td>\n",
       "      <td>0.180840</td>\n",
       "      <td>[{'id': 25, 'logo_path': '/qZCc1lty5FzX30aOCVR...</td>\n",
       "      <td>12.0</td>\n",
       "      <td>...</td>\n",
       "      <td>Friends are the people who let you be yourself...</td>\n",
       "      <td>0.188499</td>\n",
       "      <td>-0.167241</td>\n",
       "      <td>{'cast': [{'adult': False, 'gender': 1, 'id': ...</td>\n",
       "      <td>{'keywords': [{'id': 818, 'name': 'based on no...</td>\n",
       "      <td>0.148783</td>\n",
       "      <td>0.465419</td>\n",
       "      <td>[114, 114, 114]</td>\n",
       "      <td>[114, 114]</td>\n",
       "      <td>[114]</td>\n",
       "    </tr>\n",
       "    <tr>\n",
       "      <th>4</th>\n",
       "      <td>Father of the Bride Part II (1995)</td>\n",
       "      <td>113041</td>\n",
       "      <td>0.0</td>\n",
       "      <td>-0.275271</td>\n",
       "      <td>[{'id': 35, 'name': 'Comedy'}, {'id': 10751, '...</td>\n",
       "      <td>0.0</td>\n",
       "      <td>Father of the Bride Part II</td>\n",
       "      <td>0.311671</td>\n",
       "      <td>[{'id': 5842, 'logo_path': None, 'name': 'Sand...</td>\n",
       "      <td>12.0</td>\n",
       "      <td>...</td>\n",
       "      <td>Just When His World Is Back To Normal... He's ...</td>\n",
       "      <td>0.126322</td>\n",
       "      <td>0.176225</td>\n",
       "      <td>{'cast': [{'adult': False, 'gender': 2, 'id': ...</td>\n",
       "      <td>{'keywords': [{'id': 970, 'name': 'parent chil...</td>\n",
       "      <td>0.510435</td>\n",
       "      <td>1.671808</td>\n",
       "      <td>[114, 114, 114]</td>\n",
       "      <td>[114, 114]</td>\n",
       "      <td>[114]</td>\n",
       "    </tr>\n",
       "  </tbody>\n",
       "</table>\n",
       "<p>5 rows × 22 columns</p>\n",
       "</div>"
      ],
      "text/plain": [
       "                                Title  imdbId  adult    budget  \\\n",
       "0                    Toy Story (1995)  114709    0.0  1.344100   \n",
       "1                      Jumanji (1995)  113497    0.0  3.233367   \n",
       "2             Grumpier Old Men (1995)  113228    0.0  1.074205   \n",
       "3            Waiting to Exhale (1995)  114885    0.0  0.588393   \n",
       "4  Father of the Bride Part II (1995)  113041    0.0 -0.275271   \n",
       "\n",
       "                                              genres  original_language  \\\n",
       "0  [{'id': 16, 'name': 'Animation'}, {'id': 12, '...                0.0   \n",
       "1  [{'id': 12, 'name': 'Adventure'}, {'id': 14, '...                0.0   \n",
       "2  [{'id': 10749, 'name': 'Romance'}, {'id': 35, ...                0.0   \n",
       "3  [{'id': 35, 'name': 'Comedy'}, {'id': 18, 'nam...                0.0   \n",
       "4  [{'id': 35, 'name': 'Comedy'}, {'id': 10751, '...                0.0   \n",
       "\n",
       "                original_title  popularity  \\\n",
       "0                    Toy Story   13.233161   \n",
       "1                      Jumanji    0.497344   \n",
       "2             Grumpier Old Men    0.061151   \n",
       "3            Waiting to Exhale    0.180840   \n",
       "4  Father of the Bride Part II    0.311671   \n",
       "\n",
       "                                production_companies  release_date  ...  \\\n",
       "0  [{'id': 3, 'logo_path': '/1TjvGVDMYsj6JBxOAkUH...          12.0  ...   \n",
       "1  [{'id': 559, 'logo_path': '/jqWioYeGSyTLuHth01...          12.0  ...   \n",
       "2  [{'id': 174, 'logo_path': '/IuAlhI9eVC9Z8UQWOI...          12.0  ...   \n",
       "3  [{'id': 25, 'logo_path': '/qZCc1lty5FzX30aOCVR...          12.0  ...   \n",
       "4  [{'id': 5842, 'logo_path': None, 'name': 'Sand...          12.0  ...   \n",
       "\n",
       "                                             tagline  vote_average vote_count  \\\n",
       "0                                                NaN      1.516530  11.230518   \n",
       "1          Roll the dice and unleash the excitement!      0.933025   6.413346   \n",
       "2  Still Yelling. Still Fighting. Still Ready for...      0.293721  -0.038351   \n",
       "3  Friends are the people who let you be yourself...      0.188499  -0.167241   \n",
       "4  Just When His World Is Back To Normal... He's ...      0.126322   0.176225   \n",
       "\n",
       "                                               casts  \\\n",
       "0  {'cast': [{'adult': False, 'gender': 2, 'id': ...   \n",
       "1  {'cast': [{'adult': False, 'gender': 2, 'id': ...   \n",
       "2  {'cast': [{'adult': False, 'gender': 2, 'id': ...   \n",
       "3  {'cast': [{'adult': False, 'gender': 1, 'id': ...   \n",
       "4  {'cast': [{'adult': False, 'gender': 2, 'id': ...   \n",
       "\n",
       "                                            keywords num_releases  \\\n",
       "0  {'keywords': [{'id': 779, 'name': 'martial art...     2.198140   \n",
       "1  {'keywords': [{'id': 7035, 'name': 'giant inse...     3.041993   \n",
       "2  {'keywords': [{'id': 1495, 'name': 'fishing'},...     0.148783   \n",
       "3  {'keywords': [{'id': 818, 'name': 'based on no...     0.148783   \n",
       "4  {'keywords': [{'id': 970, 'name': 'parent chil...     0.510435   \n",
       "\n",
       "  num_translations      Actors_top3  Actors_top2 Actors_top1  \n",
       "0         3.380860  [128, 114, 114]   [128, 114]       [128]  \n",
       "1         2.978730   [82, 114, 114]    [82, 114]        [82]  \n",
       "2         1.370211    [11, 92, 114]     [11, 92]        [11]  \n",
       "3         0.465419  [114, 114, 114]   [114, 114]       [114]  \n",
       "4         1.671808  [114, 114, 114]   [114, 114]       [114]  \n",
       "\n",
       "[5 rows x 22 columns]"
      ]
     },
     "execution_count": 65,
     "metadata": {},
     "output_type": "execute_result"
    }
   ],
   "source": [
    "data.head()"
   ]
  },
  {
   "cell_type": "markdown",
   "id": "43b1d774",
   "metadata": {},
   "source": [
    "## Merging all data versions"
   ]
  },
  {
   "cell_type": "code",
   "execution_count": 93,
   "id": "1059bd1f",
   "metadata": {},
   "outputs": [],
   "source": [
    "data_v2 = pd.read_csv(\"../preprocessing_data_manasa.csv\")"
   ]
  },
  {
   "cell_type": "code",
   "execution_count": 94,
   "id": "571d31f0",
   "metadata": {},
   "outputs": [
    {
     "data": {
      "text/html": [
       "<div>\n",
       "<style scoped>\n",
       "    .dataframe tbody tr th:only-of-type {\n",
       "        vertical-align: middle;\n",
       "    }\n",
       "\n",
       "    .dataframe tbody tr th {\n",
       "        vertical-align: top;\n",
       "    }\n",
       "\n",
       "    .dataframe thead th {\n",
       "        text-align: right;\n",
       "    }\n",
       "</style>\n",
       "<table border=\"1\" class=\"dataframe\">\n",
       "  <thead>\n",
       "    <tr style=\"text-align: right;\">\n",
       "      <th></th>\n",
       "      <th>Unnamed: 0</th>\n",
       "      <th>Title</th>\n",
       "      <th>imdbId</th>\n",
       "      <th>adult</th>\n",
       "      <th>budget</th>\n",
       "      <th>genres</th>\n",
       "      <th>original_language</th>\n",
       "      <th>original_title</th>\n",
       "      <th>popularity</th>\n",
       "      <th>production_companies</th>\n",
       "      <th>...</th>\n",
       "      <th>casts</th>\n",
       "      <th>keywords</th>\n",
       "      <th>num_releases</th>\n",
       "      <th>num_translations</th>\n",
       "      <th>Actors</th>\n",
       "      <th>Top Genre Index</th>\n",
       "      <th>Top Genre Indices</th>\n",
       "      <th>top_prod_company</th>\n",
       "      <th>all_prod_companies</th>\n",
       "      <th>all_keywords</th>\n",
       "    </tr>\n",
       "  </thead>\n",
       "  <tbody>\n",
       "    <tr>\n",
       "      <th>0</th>\n",
       "      <td>0</td>\n",
       "      <td>Toy Story (1995)</td>\n",
       "      <td>114709</td>\n",
       "      <td>0.0</td>\n",
       "      <td>1.344100</td>\n",
       "      <td>[{'id': 16, 'name': 'Animation'}, {'id': 12, '...</td>\n",
       "      <td>0.0</td>\n",
       "      <td>Toy Story</td>\n",
       "      <td>13.233161</td>\n",
       "      <td>[{'id': 3, 'logo_path': '/1TjvGVDMYsj6JBxOAkUH...</td>\n",
       "      <td>...</td>\n",
       "      <td>{'cast': [{'adult': False, 'gender': 2, 'id': ...</td>\n",
       "      <td>{'keywords': [{'id': 779, 'name': 'martial art...</td>\n",
       "      <td>2.198140</td>\n",
       "      <td>3.380860</td>\n",
       "      <td>['Tom Hanks', 'Tim Allen', 'Don Rickles']</td>\n",
       "      <td>[2]</td>\n",
       "      <td>[2, 1, 7, 3]</td>\n",
       "      <td>[48]</td>\n",
       "      <td>[48]</td>\n",
       "      <td>[22, 44, 12, 44, 44, 44, 44, 44, 44, 44, 44, 4...</td>\n",
       "    </tr>\n",
       "    <tr>\n",
       "      <th>1</th>\n",
       "      <td>1</td>\n",
       "      <td>Jumanji (1995)</td>\n",
       "      <td>113497</td>\n",
       "      <td>0.0</td>\n",
       "      <td>3.233367</td>\n",
       "      <td>[{'id': 12, 'name': 'Adventure'}, {'id': 14, '...</td>\n",
       "      <td>0.0</td>\n",
       "      <td>Jumanji</td>\n",
       "      <td>0.497344</td>\n",
       "      <td>[{'id': 559, 'logo_path': '/jqWioYeGSyTLuHth01...</td>\n",
       "      <td>...</td>\n",
       "      <td>{'cast': [{'adult': False, 'gender': 2, 'id': ...</td>\n",
       "      <td>{'keywords': [{'id': 7035, 'name': 'giant inse...</td>\n",
       "      <td>3.041993</td>\n",
       "      <td>2.978730</td>\n",
       "      <td>['Robin Williams', 'Kirsten Dunst', 'Bradley P...</td>\n",
       "      <td>[1]</td>\n",
       "      <td>[1, 8, 7]</td>\n",
       "      <td>[39]</td>\n",
       "      <td>[39, 48, 48]</td>\n",
       "      <td>[44, 44, 44, 44, 44, 44, 44]</td>\n",
       "    </tr>\n",
       "    <tr>\n",
       "      <th>2</th>\n",
       "      <td>2</td>\n",
       "      <td>Grumpier Old Men (1995)</td>\n",
       "      <td>113228</td>\n",
       "      <td>0.0</td>\n",
       "      <td>1.074205</td>\n",
       "      <td>[{'id': 10749, 'name': 'Romance'}, {'id': 35, ...</td>\n",
       "      <td>0.0</td>\n",
       "      <td>Grumpier Old Men</td>\n",
       "      <td>0.061151</td>\n",
       "      <td>[{'id': 174, 'logo_path': '/IuAlhI9eVC9Z8UQWOI...</td>\n",
       "      <td>...</td>\n",
       "      <td>{'cast': [{'adult': False, 'gender': 2, 'id': ...</td>\n",
       "      <td>{'keywords': [{'id': 1495, 'name': 'fishing'},...</td>\n",
       "      <td>0.148783</td>\n",
       "      <td>1.370211</td>\n",
       "      <td>['Walter Matthau', 'Jack Lemmon', 'Ann-Margret']</td>\n",
       "      <td>[13]</td>\n",
       "      <td>[13, 3]</td>\n",
       "      <td>[45]</td>\n",
       "      <td>[45, 48]</td>\n",
       "      <td>[44, 44, 34, 44, 44, 44, 44, 44, 9, 44]</td>\n",
       "    </tr>\n",
       "    <tr>\n",
       "      <th>3</th>\n",
       "      <td>3</td>\n",
       "      <td>Waiting to Exhale (1995)</td>\n",
       "      <td>114885</td>\n",
       "      <td>0.0</td>\n",
       "      <td>0.588393</td>\n",
       "      <td>[{'id': 35, 'name': 'Comedy'}, {'id': 18, 'nam...</td>\n",
       "      <td>0.0</td>\n",
       "      <td>Waiting to Exhale</td>\n",
       "      <td>0.180840</td>\n",
       "      <td>[{'id': 25, 'logo_path': '/qZCc1lty5FzX30aOCVR...</td>\n",
       "      <td>...</td>\n",
       "      <td>{'cast': [{'adult': False, 'gender': 1, 'id': ...</td>\n",
       "      <td>{'keywords': [{'id': 818, 'name': 'based on no...</td>\n",
       "      <td>0.148783</td>\n",
       "      <td>0.465419</td>\n",
       "      <td>['Whitney Houston', 'Angela Bassett', 'Loretta...</td>\n",
       "      <td>[3]</td>\n",
       "      <td>[3, 6, 13]</td>\n",
       "      <td>[0]</td>\n",
       "      <td>[0]</td>\n",
       "      <td>[1, 44, 44, 44]</td>\n",
       "    </tr>\n",
       "    <tr>\n",
       "      <th>4</th>\n",
       "      <td>4</td>\n",
       "      <td>Father of the Bride Part II (1995)</td>\n",
       "      <td>113041</td>\n",
       "      <td>0.0</td>\n",
       "      <td>-0.275271</td>\n",
       "      <td>[{'id': 35, 'name': 'Comedy'}, {'id': 10751, '...</td>\n",
       "      <td>0.0</td>\n",
       "      <td>Father of the Bride Part II</td>\n",
       "      <td>0.311671</td>\n",
       "      <td>[{'id': 5842, 'logo_path': None, 'name': 'Sand...</td>\n",
       "      <td>...</td>\n",
       "      <td>{'cast': [{'adult': False, 'gender': 2, 'id': ...</td>\n",
       "      <td>{'keywords': [{'id': 970, 'name': 'parent chil...</td>\n",
       "      <td>0.510435</td>\n",
       "      <td>1.671808</td>\n",
       "      <td>['Steve Martin', 'Diane Keaton', 'Martin Short']</td>\n",
       "      <td>[3]</td>\n",
       "      <td>[3, 7]</td>\n",
       "      <td>[48]</td>\n",
       "      <td>[48, 38]</td>\n",
       "      <td>[26, 44, 44, 44, 44, 44, 44, 34, 32, 19, 44, 44]</td>\n",
       "    </tr>\n",
       "  </tbody>\n",
       "</table>\n",
       "<p>5 rows × 26 columns</p>\n",
       "</div>"
      ],
      "text/plain": [
       "   Unnamed: 0                               Title  imdbId  adult    budget  \\\n",
       "0           0                    Toy Story (1995)  114709    0.0  1.344100   \n",
       "1           1                      Jumanji (1995)  113497    0.0  3.233367   \n",
       "2           2             Grumpier Old Men (1995)  113228    0.0  1.074205   \n",
       "3           3            Waiting to Exhale (1995)  114885    0.0  0.588393   \n",
       "4           4  Father of the Bride Part II (1995)  113041    0.0 -0.275271   \n",
       "\n",
       "                                              genres  original_language  \\\n",
       "0  [{'id': 16, 'name': 'Animation'}, {'id': 12, '...                0.0   \n",
       "1  [{'id': 12, 'name': 'Adventure'}, {'id': 14, '...                0.0   \n",
       "2  [{'id': 10749, 'name': 'Romance'}, {'id': 35, ...                0.0   \n",
       "3  [{'id': 35, 'name': 'Comedy'}, {'id': 18, 'nam...                0.0   \n",
       "4  [{'id': 35, 'name': 'Comedy'}, {'id': 10751, '...                0.0   \n",
       "\n",
       "                original_title  popularity  \\\n",
       "0                    Toy Story   13.233161   \n",
       "1                      Jumanji    0.497344   \n",
       "2             Grumpier Old Men    0.061151   \n",
       "3            Waiting to Exhale    0.180840   \n",
       "4  Father of the Bride Part II    0.311671   \n",
       "\n",
       "                                production_companies  ...  \\\n",
       "0  [{'id': 3, 'logo_path': '/1TjvGVDMYsj6JBxOAkUH...  ...   \n",
       "1  [{'id': 559, 'logo_path': '/jqWioYeGSyTLuHth01...  ...   \n",
       "2  [{'id': 174, 'logo_path': '/IuAlhI9eVC9Z8UQWOI...  ...   \n",
       "3  [{'id': 25, 'logo_path': '/qZCc1lty5FzX30aOCVR...  ...   \n",
       "4  [{'id': 5842, 'logo_path': None, 'name': 'Sand...  ...   \n",
       "\n",
       "                                               casts  \\\n",
       "0  {'cast': [{'adult': False, 'gender': 2, 'id': ...   \n",
       "1  {'cast': [{'adult': False, 'gender': 2, 'id': ...   \n",
       "2  {'cast': [{'adult': False, 'gender': 2, 'id': ...   \n",
       "3  {'cast': [{'adult': False, 'gender': 1, 'id': ...   \n",
       "4  {'cast': [{'adult': False, 'gender': 2, 'id': ...   \n",
       "\n",
       "                                            keywords  num_releases  \\\n",
       "0  {'keywords': [{'id': 779, 'name': 'martial art...      2.198140   \n",
       "1  {'keywords': [{'id': 7035, 'name': 'giant inse...      3.041993   \n",
       "2  {'keywords': [{'id': 1495, 'name': 'fishing'},...      0.148783   \n",
       "3  {'keywords': [{'id': 818, 'name': 'based on no...      0.148783   \n",
       "4  {'keywords': [{'id': 970, 'name': 'parent chil...      0.510435   \n",
       "\n",
       "  num_translations                                             Actors  \\\n",
       "0         3.380860          ['Tom Hanks', 'Tim Allen', 'Don Rickles']   \n",
       "1         2.978730  ['Robin Williams', 'Kirsten Dunst', 'Bradley P...   \n",
       "2         1.370211   ['Walter Matthau', 'Jack Lemmon', 'Ann-Margret']   \n",
       "3         0.465419  ['Whitney Houston', 'Angela Bassett', 'Loretta...   \n",
       "4         1.671808   ['Steve Martin', 'Diane Keaton', 'Martin Short']   \n",
       "\n",
       "   Top Genre Index Top Genre Indices top_prod_company  all_prod_companies  \\\n",
       "0              [2]      [2, 1, 7, 3]             [48]                [48]   \n",
       "1              [1]         [1, 8, 7]             [39]        [39, 48, 48]   \n",
       "2             [13]           [13, 3]             [45]            [45, 48]   \n",
       "3              [3]        [3, 6, 13]              [0]                 [0]   \n",
       "4              [3]            [3, 7]             [48]            [48, 38]   \n",
       "\n",
       "                                        all_keywords  \n",
       "0  [22, 44, 12, 44, 44, 44, 44, 44, 44, 44, 44, 4...  \n",
       "1                       [44, 44, 44, 44, 44, 44, 44]  \n",
       "2            [44, 44, 34, 44, 44, 44, 44, 44, 9, 44]  \n",
       "3                                    [1, 44, 44, 44]  \n",
       "4   [26, 44, 44, 44, 44, 44, 44, 34, 32, 19, 44, 44]  \n",
       "\n",
       "[5 rows x 26 columns]"
      ]
     },
     "execution_count": 94,
     "metadata": {},
     "output_type": "execute_result"
    }
   ],
   "source": [
    "data_v2.head()"
   ]
  },
  {
   "cell_type": "code",
   "execution_count": 95,
   "id": "8c33baaa",
   "metadata": {},
   "outputs": [
    {
     "data": {
      "text/plain": [
       "39030"
      ]
     },
     "execution_count": 95,
     "metadata": {},
     "output_type": "execute_result"
    }
   ],
   "source": [
    "len(data_v2)"
   ]
  },
  {
   "cell_type": "code",
   "execution_count": 96,
   "id": "a9b84578",
   "metadata": {},
   "outputs": [],
   "source": [
    "new_cols = data[['imdbId', 'release_date', 'Actors_top3', 'Actors_top2', 'Actors_top1']]"
   ]
  },
  {
   "cell_type": "code",
   "execution_count": 97,
   "id": "d1ebae04",
   "metadata": {},
   "outputs": [
    {
     "data": {
      "text/html": [
       "<div>\n",
       "<style scoped>\n",
       "    .dataframe tbody tr th:only-of-type {\n",
       "        vertical-align: middle;\n",
       "    }\n",
       "\n",
       "    .dataframe tbody tr th {\n",
       "        vertical-align: top;\n",
       "    }\n",
       "\n",
       "    .dataframe thead th {\n",
       "        text-align: right;\n",
       "    }\n",
       "</style>\n",
       "<table border=\"1\" class=\"dataframe\">\n",
       "  <thead>\n",
       "    <tr style=\"text-align: right;\">\n",
       "      <th></th>\n",
       "      <th>imdbId</th>\n",
       "      <th>release_date</th>\n",
       "      <th>Actors_top3</th>\n",
       "      <th>Actors_top2</th>\n",
       "      <th>Actors_top1</th>\n",
       "    </tr>\n",
       "  </thead>\n",
       "  <tbody>\n",
       "    <tr>\n",
       "      <th>0</th>\n",
       "      <td>114709</td>\n",
       "      <td>12.0</td>\n",
       "      <td>[128, 114, 114]</td>\n",
       "      <td>[128, 114]</td>\n",
       "      <td>[128]</td>\n",
       "    </tr>\n",
       "    <tr>\n",
       "      <th>1</th>\n",
       "      <td>113497</td>\n",
       "      <td>12.0</td>\n",
       "      <td>[82, 114, 114]</td>\n",
       "      <td>[82, 114]</td>\n",
       "      <td>[82]</td>\n",
       "    </tr>\n",
       "    <tr>\n",
       "      <th>2</th>\n",
       "      <td>113228</td>\n",
       "      <td>12.0</td>\n",
       "      <td>[11, 92, 114]</td>\n",
       "      <td>[11, 92]</td>\n",
       "      <td>[11]</td>\n",
       "    </tr>\n",
       "    <tr>\n",
       "      <th>3</th>\n",
       "      <td>114885</td>\n",
       "      <td>12.0</td>\n",
       "      <td>[114, 114, 114]</td>\n",
       "      <td>[114, 114]</td>\n",
       "      <td>[114]</td>\n",
       "    </tr>\n",
       "    <tr>\n",
       "      <th>4</th>\n",
       "      <td>113041</td>\n",
       "      <td>12.0</td>\n",
       "      <td>[114, 114, 114]</td>\n",
       "      <td>[114, 114]</td>\n",
       "      <td>[114]</td>\n",
       "    </tr>\n",
       "    <tr>\n",
       "      <th>...</th>\n",
       "      <td>...</td>\n",
       "      <td>...</td>\n",
       "      <td>...</td>\n",
       "      <td>...</td>\n",
       "      <td>...</td>\n",
       "    </tr>\n",
       "    <tr>\n",
       "      <th>39619</th>\n",
       "      <td>83168</td>\n",
       "      <td>11.0</td>\n",
       "      <td>[114, 114, 114]</td>\n",
       "      <td>[114, 114]</td>\n",
       "      <td>[114]</td>\n",
       "    </tr>\n",
       "    <tr>\n",
       "      <th>39620</th>\n",
       "      <td>82875</td>\n",
       "      <td>11.0</td>\n",
       "      <td>[114, 114, 114]</td>\n",
       "      <td>[114, 114]</td>\n",
       "      <td>[114]</td>\n",
       "    </tr>\n",
       "    <tr>\n",
       "      <th>39621</th>\n",
       "      <td>815258</td>\n",
       "      <td>13.0</td>\n",
       "      <td>[114, 114, 114]</td>\n",
       "      <td>[114, 114]</td>\n",
       "      <td>[114]</td>\n",
       "    </tr>\n",
       "    <tr>\n",
       "      <th>39622</th>\n",
       "      <td>79142</td>\n",
       "      <td>10.0</td>\n",
       "      <td>[114, 114, 114]</td>\n",
       "      <td>[114, 114]</td>\n",
       "      <td>[114]</td>\n",
       "    </tr>\n",
       "    <tr>\n",
       "      <th>39623</th>\n",
       "      <td>70710</td>\n",
       "      <td>10.0</td>\n",
       "      <td>[114, 114, 114]</td>\n",
       "      <td>[114, 114]</td>\n",
       "      <td>[114]</td>\n",
       "    </tr>\n",
       "  </tbody>\n",
       "</table>\n",
       "<p>39620 rows × 5 columns</p>\n",
       "</div>"
      ],
      "text/plain": [
       "       imdbId  release_date      Actors_top3 Actors_top2 Actors_top1\n",
       "0      114709          12.0  [128, 114, 114]  [128, 114]       [128]\n",
       "1      113497          12.0   [82, 114, 114]   [82, 114]        [82]\n",
       "2      113228          12.0    [11, 92, 114]    [11, 92]        [11]\n",
       "3      114885          12.0  [114, 114, 114]  [114, 114]       [114]\n",
       "4      113041          12.0  [114, 114, 114]  [114, 114]       [114]\n",
       "...       ...           ...              ...         ...         ...\n",
       "39619   83168          11.0  [114, 114, 114]  [114, 114]       [114]\n",
       "39620   82875          11.0  [114, 114, 114]  [114, 114]       [114]\n",
       "39621  815258          13.0  [114, 114, 114]  [114, 114]       [114]\n",
       "39622   79142          10.0  [114, 114, 114]  [114, 114]       [114]\n",
       "39623   70710          10.0  [114, 114, 114]  [114, 114]       [114]\n",
       "\n",
       "[39620 rows x 5 columns]"
      ]
     },
     "execution_count": 97,
     "metadata": {},
     "output_type": "execute_result"
    }
   ],
   "source": [
    "new_cols"
   ]
  },
  {
   "cell_type": "code",
   "execution_count": 98,
   "id": "6f853403",
   "metadata": {},
   "outputs": [],
   "source": [
    "final_data = pd.merge(data_v2, new_cols, on='imdbId')"
   ]
  },
  {
   "cell_type": "code",
   "execution_count": 100,
   "id": "3bac05c0",
   "metadata": {},
   "outputs": [
    {
     "data": {
      "text/plain": [
       "Index(['Unnamed: 0', 'Title', 'imdbId', 'adult', 'budget', 'genres',\n",
       "       'original_language', 'original_title', 'popularity',\n",
       "       'production_companies', 'release_date_x', 'revenue', 'runtime',\n",
       "       'tagline', 'vote_average', 'vote_count', 'casts', 'keywords',\n",
       "       'num_releases', 'num_translations', 'Actors', 'Top Genre Index',\n",
       "       'Top Genre Indices', 'top_prod_company', 'all_prod_companies',\n",
       "       'all_keywords', 'release_date_y', 'Actors_top3', 'Actors_top2',\n",
       "       'Actors_top1'],\n",
       "      dtype='object')"
      ]
     },
     "execution_count": 100,
     "metadata": {},
     "output_type": "execute_result"
    }
   ],
   "source": [
    "final_data.columns"
   ]
  },
  {
   "cell_type": "code",
   "execution_count": 105,
   "id": "c8f25f17",
   "metadata": {},
   "outputs": [
    {
     "data": {
      "text/html": [
       "<div>\n",
       "<style scoped>\n",
       "    .dataframe tbody tr th:only-of-type {\n",
       "        vertical-align: middle;\n",
       "    }\n",
       "\n",
       "    .dataframe tbody tr th {\n",
       "        vertical-align: top;\n",
       "    }\n",
       "\n",
       "    .dataframe thead th {\n",
       "        text-align: right;\n",
       "    }\n",
       "</style>\n",
       "<table border=\"1\" class=\"dataframe\">\n",
       "  <thead>\n",
       "    <tr style=\"text-align: right;\">\n",
       "      <th></th>\n",
       "      <th>Title</th>\n",
       "      <th>imdbId</th>\n",
       "      <th>adult</th>\n",
       "      <th>budget</th>\n",
       "      <th>original_language</th>\n",
       "      <th>original_title</th>\n",
       "      <th>popularity</th>\n",
       "      <th>revenue</th>\n",
       "      <th>runtime</th>\n",
       "      <th>tagline</th>\n",
       "      <th>...</th>\n",
       "      <th>num_translations</th>\n",
       "      <th>top_genre_index</th>\n",
       "      <th>top_genre_indices</th>\n",
       "      <th>top_prod_company</th>\n",
       "      <th>all_prod_companies</th>\n",
       "      <th>all_keywords</th>\n",
       "      <th>release_date</th>\n",
       "      <th>actors_top3</th>\n",
       "      <th>actors_top2</th>\n",
       "      <th>actor_top1</th>\n",
       "    </tr>\n",
       "  </thead>\n",
       "  <tbody>\n",
       "    <tr>\n",
       "      <th>0</th>\n",
       "      <td>Toy Story (1995)</td>\n",
       "      <td>114709</td>\n",
       "      <td>0.0</td>\n",
       "      <td>1.344100</td>\n",
       "      <td>0.0</td>\n",
       "      <td>Toy Story</td>\n",
       "      <td>13.233161</td>\n",
       "      <td>5.243183</td>\n",
       "      <td>-0.554372</td>\n",
       "      <td>NaN</td>\n",
       "      <td>...</td>\n",
       "      <td>3.380860</td>\n",
       "      <td>[2]</td>\n",
       "      <td>[2, 1, 7, 3]</td>\n",
       "      <td>[48]</td>\n",
       "      <td>[48]</td>\n",
       "      <td>[22, 44, 12, 44, 44, 44, 44, 44, 44, 44, 44, 4...</td>\n",
       "      <td>12.0</td>\n",
       "      <td>[128, 114, 114]</td>\n",
       "      <td>[128, 114]</td>\n",
       "      <td>[128]</td>\n",
       "    </tr>\n",
       "    <tr>\n",
       "      <th>1</th>\n",
       "      <td>Jumanji (1995)</td>\n",
       "      <td>113497</td>\n",
       "      <td>0.0</td>\n",
       "      <td>3.233367</td>\n",
       "      <td>0.0</td>\n",
       "      <td>Jumanji</td>\n",
       "      <td>0.497344</td>\n",
       "      <td>3.629983</td>\n",
       "      <td>0.258067</td>\n",
       "      <td>Roll the dice and unleash the excitement!</td>\n",
       "      <td>...</td>\n",
       "      <td>2.978730</td>\n",
       "      <td>[1]</td>\n",
       "      <td>[1, 8, 7]</td>\n",
       "      <td>[39]</td>\n",
       "      <td>[39, 48, 48]</td>\n",
       "      <td>[44, 44, 44, 44, 44, 44, 44]</td>\n",
       "      <td>12.0</td>\n",
       "      <td>[82, 114, 114]</td>\n",
       "      <td>[82, 114]</td>\n",
       "      <td>[82]</td>\n",
       "    </tr>\n",
       "    <tr>\n",
       "      <th>2</th>\n",
       "      <td>Grumpier Old Men (1995)</td>\n",
       "      <td>113228</td>\n",
       "      <td>0.0</td>\n",
       "      <td>1.074205</td>\n",
       "      <td>0.0</td>\n",
       "      <td>Grumpier Old Men</td>\n",
       "      <td>0.061151</td>\n",
       "      <td>0.842709</td>\n",
       "      <td>0.152097</td>\n",
       "      <td>Still Yelling. Still Fighting. Still Ready for...</td>\n",
       "      <td>...</td>\n",
       "      <td>1.370211</td>\n",
       "      <td>[13]</td>\n",
       "      <td>[13, 3]</td>\n",
       "      <td>[45]</td>\n",
       "      <td>[45, 48]</td>\n",
       "      <td>[44, 44, 34, 44, 44, 44, 44, 44, 9, 44]</td>\n",
       "      <td>12.0</td>\n",
       "      <td>[11, 92, 114]</td>\n",
       "      <td>[11, 92]</td>\n",
       "      <td>[11]</td>\n",
       "    </tr>\n",
       "    <tr>\n",
       "      <th>3</th>\n",
       "      <td>Waiting to Exhale (1995)</td>\n",
       "      <td>114885</td>\n",
       "      <td>0.0</td>\n",
       "      <td>0.588393</td>\n",
       "      <td>0.0</td>\n",
       "      <td>Waiting to Exhale</td>\n",
       "      <td>0.180840</td>\n",
       "      <td>0.987697</td>\n",
       "      <td>1.070506</td>\n",
       "      <td>Friends are the people who let you be yourself...</td>\n",
       "      <td>...</td>\n",
       "      <td>0.465419</td>\n",
       "      <td>[3]</td>\n",
       "      <td>[3, 6, 13]</td>\n",
       "      <td>[0]</td>\n",
       "      <td>[0]</td>\n",
       "      <td>[1, 44, 44, 44]</td>\n",
       "      <td>12.0</td>\n",
       "      <td>[114, 114, 114]</td>\n",
       "      <td>[114, 114]</td>\n",
       "      <td>[114]</td>\n",
       "    </tr>\n",
       "    <tr>\n",
       "      <th>4</th>\n",
       "      <td>Father of the Bride Part II (1995)</td>\n",
       "      <td>113041</td>\n",
       "      <td>0.0</td>\n",
       "      <td>-0.275271</td>\n",
       "      <td>0.0</td>\n",
       "      <td>Father of the Bride Part II</td>\n",
       "      <td>0.311671</td>\n",
       "      <td>0.916922</td>\n",
       "      <td>0.328714</td>\n",
       "      <td>Just When His World Is Back To Normal... He's ...</td>\n",
       "      <td>...</td>\n",
       "      <td>1.671808</td>\n",
       "      <td>[3]</td>\n",
       "      <td>[3, 7]</td>\n",
       "      <td>[48]</td>\n",
       "      <td>[48, 38]</td>\n",
       "      <td>[26, 44, 44, 44, 44, 44, 44, 34, 32, 19, 44, 44]</td>\n",
       "      <td>12.0</td>\n",
       "      <td>[114, 114, 114]</td>\n",
       "      <td>[114, 114]</td>\n",
       "      <td>[114]</td>\n",
       "    </tr>\n",
       "  </tbody>\n",
       "</table>\n",
       "<p>5 rows × 23 columns</p>\n",
       "</div>"
      ],
      "text/plain": [
       "                                Title  imdbId  adult    budget  \\\n",
       "0                    Toy Story (1995)  114709    0.0  1.344100   \n",
       "1                      Jumanji (1995)  113497    0.0  3.233367   \n",
       "2             Grumpier Old Men (1995)  113228    0.0  1.074205   \n",
       "3            Waiting to Exhale (1995)  114885    0.0  0.588393   \n",
       "4  Father of the Bride Part II (1995)  113041    0.0 -0.275271   \n",
       "\n",
       "   original_language               original_title  popularity   revenue  \\\n",
       "0                0.0                    Toy Story   13.233161  5.243183   \n",
       "1                0.0                      Jumanji    0.497344  3.629983   \n",
       "2                0.0             Grumpier Old Men    0.061151  0.842709   \n",
       "3                0.0            Waiting to Exhale    0.180840  0.987697   \n",
       "4                0.0  Father of the Bride Part II    0.311671  0.916922   \n",
       "\n",
       "    runtime                                            tagline  ...  \\\n",
       "0 -0.554372                                                NaN  ...   \n",
       "1  0.258067          Roll the dice and unleash the excitement!  ...   \n",
       "2  0.152097  Still Yelling. Still Fighting. Still Ready for...  ...   \n",
       "3  1.070506  Friends are the people who let you be yourself...  ...   \n",
       "4  0.328714  Just When His World Is Back To Normal... He's ...  ...   \n",
       "\n",
       "   num_translations  top_genre_index  top_genre_indices  top_prod_company  \\\n",
       "0          3.380860              [2]       [2, 1, 7, 3]              [48]   \n",
       "1          2.978730              [1]          [1, 8, 7]              [39]   \n",
       "2          1.370211             [13]            [13, 3]              [45]   \n",
       "3          0.465419              [3]         [3, 6, 13]               [0]   \n",
       "4          1.671808              [3]             [3, 7]              [48]   \n",
       "\n",
       "  all_prod_companies                                       all_keywords  \\\n",
       "0               [48]  [22, 44, 12, 44, 44, 44, 44, 44, 44, 44, 44, 4...   \n",
       "1       [39, 48, 48]                       [44, 44, 44, 44, 44, 44, 44]   \n",
       "2           [45, 48]            [44, 44, 34, 44, 44, 44, 44, 44, 9, 44]   \n",
       "3                [0]                                    [1, 44, 44, 44]   \n",
       "4           [48, 38]   [26, 44, 44, 44, 44, 44, 44, 34, 32, 19, 44, 44]   \n",
       "\n",
       "  release_date      actors_top3 actors_top2  actor_top1  \n",
       "0         12.0  [128, 114, 114]  [128, 114]       [128]  \n",
       "1         12.0   [82, 114, 114]   [82, 114]        [82]  \n",
       "2         12.0    [11, 92, 114]    [11, 92]        [11]  \n",
       "3         12.0  [114, 114, 114]  [114, 114]       [114]  \n",
       "4         12.0  [114, 114, 114]  [114, 114]       [114]  \n",
       "\n",
       "[5 rows x 23 columns]"
      ]
     },
     "execution_count": 105,
     "metadata": {},
     "output_type": "execute_result"
    }
   ],
   "source": [
    "final_data = final_data.drop(['Unnamed: 0', 'genres', 'production_companies', 'release_date_x', 'casts', 'keywords', 'Actors'], axis=1)\n",
    "final_data = final_data.rename(columns={'release_date_y':'release_date', 'Top Genre Index':'top_genre_index', 'Top Genre Indices':'top_genre_indices', 'Actors_top3':'actors_top3', 'Actors_top2':'actors_top2', 'Actors_top1':'actor_top1'})\n",
    "final_data.head()\n"
   ]
  },
  {
   "cell_type": "code",
   "execution_count": 106,
   "id": "c589e25c",
   "metadata": {},
   "outputs": [
    {
     "data": {
      "text/plain": [
       "Index(['Title', 'imdbId', 'adult', 'budget', 'original_language',\n",
       "       'original_title', 'popularity', 'revenue', 'runtime', 'tagline',\n",
       "       'vote_average', 'vote_count', 'num_releases', 'num_translations',\n",
       "       'top_genre_index', 'top_genre_indices', 'top_prod_company',\n",
       "       'all_prod_companies', 'all_keywords', 'release_date', 'actors_top3',\n",
       "       'actors_top2', 'actor_top1'],\n",
       "      dtype='object')"
      ]
     },
     "execution_count": 106,
     "metadata": {},
     "output_type": "execute_result"
    }
   ],
   "source": [
    "final_data.columns"
   ]
  },
  {
   "cell_type": "code",
   "execution_count": 108,
   "id": "05d7c21b",
   "metadata": {},
   "outputs": [
    {
     "data": {
      "text/html": [
       "<div>\n",
       "<style scoped>\n",
       "    .dataframe tbody tr th:only-of-type {\n",
       "        vertical-align: middle;\n",
       "    }\n",
       "\n",
       "    .dataframe tbody tr th {\n",
       "        vertical-align: top;\n",
       "    }\n",
       "\n",
       "    .dataframe thead th {\n",
       "        text-align: right;\n",
       "    }\n",
       "</style>\n",
       "<table border=\"1\" class=\"dataframe\">\n",
       "  <thead>\n",
       "    <tr style=\"text-align: right;\">\n",
       "      <th></th>\n",
       "      <th>Title</th>\n",
       "      <th>imdbId</th>\n",
       "      <th>adult</th>\n",
       "      <th>budget</th>\n",
       "      <th>original_language</th>\n",
       "      <th>original_title</th>\n",
       "      <th>popularity</th>\n",
       "      <th>revenue</th>\n",
       "      <th>runtime</th>\n",
       "      <th>tagline</th>\n",
       "      <th>...</th>\n",
       "      <th>num_translations</th>\n",
       "      <th>top_genre_index</th>\n",
       "      <th>top_genre_indices</th>\n",
       "      <th>top_prod_company</th>\n",
       "      <th>all_prod_companies</th>\n",
       "      <th>all_keywords</th>\n",
       "      <th>release_date</th>\n",
       "      <th>actors_top3</th>\n",
       "      <th>actors_top2</th>\n",
       "      <th>actor_top1</th>\n",
       "    </tr>\n",
       "  </thead>\n",
       "  <tbody>\n",
       "    <tr>\n",
       "      <th>0</th>\n",
       "      <td>Toy Story (1995)</td>\n",
       "      <td>114709</td>\n",
       "      <td>0.0</td>\n",
       "      <td>1.344100</td>\n",
       "      <td>0.0</td>\n",
       "      <td>Toy Story</td>\n",
       "      <td>13.233161</td>\n",
       "      <td>5.243183</td>\n",
       "      <td>-0.554372</td>\n",
       "      <td>NaN</td>\n",
       "      <td>...</td>\n",
       "      <td>3.380860</td>\n",
       "      <td>[2]</td>\n",
       "      <td>[2, 1, 7, 3]</td>\n",
       "      <td>[48]</td>\n",
       "      <td>[48]</td>\n",
       "      <td>[22, 44, 12, 44, 44, 44, 44, 44, 44, 44, 44, 4...</td>\n",
       "      <td>12.0</td>\n",
       "      <td>[128, 114, 114]</td>\n",
       "      <td>[128, 114]</td>\n",
       "      <td>[128]</td>\n",
       "    </tr>\n",
       "    <tr>\n",
       "      <th>1</th>\n",
       "      <td>Jumanji (1995)</td>\n",
       "      <td>113497</td>\n",
       "      <td>0.0</td>\n",
       "      <td>3.233367</td>\n",
       "      <td>0.0</td>\n",
       "      <td>Jumanji</td>\n",
       "      <td>0.497344</td>\n",
       "      <td>3.629983</td>\n",
       "      <td>0.258067</td>\n",
       "      <td>Roll the dice and unleash the excitement!</td>\n",
       "      <td>...</td>\n",
       "      <td>2.978730</td>\n",
       "      <td>[1]</td>\n",
       "      <td>[1, 8, 7]</td>\n",
       "      <td>[39]</td>\n",
       "      <td>[39, 48, 48]</td>\n",
       "      <td>[44, 44, 44, 44, 44, 44, 44]</td>\n",
       "      <td>12.0</td>\n",
       "      <td>[82, 114, 114]</td>\n",
       "      <td>[82, 114]</td>\n",
       "      <td>[82]</td>\n",
       "    </tr>\n",
       "    <tr>\n",
       "      <th>2</th>\n",
       "      <td>Grumpier Old Men (1995)</td>\n",
       "      <td>113228</td>\n",
       "      <td>0.0</td>\n",
       "      <td>1.074205</td>\n",
       "      <td>0.0</td>\n",
       "      <td>Grumpier Old Men</td>\n",
       "      <td>0.061151</td>\n",
       "      <td>0.842709</td>\n",
       "      <td>0.152097</td>\n",
       "      <td>Still Yelling. Still Fighting. Still Ready for...</td>\n",
       "      <td>...</td>\n",
       "      <td>1.370211</td>\n",
       "      <td>[13]</td>\n",
       "      <td>[13, 3]</td>\n",
       "      <td>[45]</td>\n",
       "      <td>[45, 48]</td>\n",
       "      <td>[44, 44, 34, 44, 44, 44, 44, 44, 9, 44]</td>\n",
       "      <td>12.0</td>\n",
       "      <td>[11, 92, 114]</td>\n",
       "      <td>[11, 92]</td>\n",
       "      <td>[11]</td>\n",
       "    </tr>\n",
       "    <tr>\n",
       "      <th>3</th>\n",
       "      <td>Waiting to Exhale (1995)</td>\n",
       "      <td>114885</td>\n",
       "      <td>0.0</td>\n",
       "      <td>0.588393</td>\n",
       "      <td>0.0</td>\n",
       "      <td>Waiting to Exhale</td>\n",
       "      <td>0.180840</td>\n",
       "      <td>0.987697</td>\n",
       "      <td>1.070506</td>\n",
       "      <td>Friends are the people who let you be yourself...</td>\n",
       "      <td>...</td>\n",
       "      <td>0.465419</td>\n",
       "      <td>[3]</td>\n",
       "      <td>[3, 6, 13]</td>\n",
       "      <td>[0]</td>\n",
       "      <td>[0]</td>\n",
       "      <td>[1, 44, 44, 44]</td>\n",
       "      <td>12.0</td>\n",
       "      <td>[114, 114, 114]</td>\n",
       "      <td>[114, 114]</td>\n",
       "      <td>[114]</td>\n",
       "    </tr>\n",
       "    <tr>\n",
       "      <th>4</th>\n",
       "      <td>Father of the Bride Part II (1995)</td>\n",
       "      <td>113041</td>\n",
       "      <td>0.0</td>\n",
       "      <td>-0.275271</td>\n",
       "      <td>0.0</td>\n",
       "      <td>Father of the Bride Part II</td>\n",
       "      <td>0.311671</td>\n",
       "      <td>0.916922</td>\n",
       "      <td>0.328714</td>\n",
       "      <td>Just When His World Is Back To Normal... He's ...</td>\n",
       "      <td>...</td>\n",
       "      <td>1.671808</td>\n",
       "      <td>[3]</td>\n",
       "      <td>[3, 7]</td>\n",
       "      <td>[48]</td>\n",
       "      <td>[48, 38]</td>\n",
       "      <td>[26, 44, 44, 44, 44, 44, 44, 34, 32, 19, 44, 44]</td>\n",
       "      <td>12.0</td>\n",
       "      <td>[114, 114, 114]</td>\n",
       "      <td>[114, 114]</td>\n",
       "      <td>[114]</td>\n",
       "    </tr>\n",
       "    <tr>\n",
       "      <th>...</th>\n",
       "      <td>...</td>\n",
       "      <td>...</td>\n",
       "      <td>...</td>\n",
       "      <td>...</td>\n",
       "      <td>...</td>\n",
       "      <td>...</td>\n",
       "      <td>...</td>\n",
       "      <td>...</td>\n",
       "      <td>...</td>\n",
       "      <td>...</td>\n",
       "      <td>...</td>\n",
       "      <td>...</td>\n",
       "      <td>...</td>\n",
       "      <td>...</td>\n",
       "      <td>...</td>\n",
       "      <td>...</td>\n",
       "      <td>...</td>\n",
       "      <td>...</td>\n",
       "      <td>...</td>\n",
       "      <td>...</td>\n",
       "      <td>...</td>\n",
       "    </tr>\n",
       "    <tr>\n",
       "      <th>39610</th>\n",
       "      <td>Island of Blood (1982)</td>\n",
       "      <td>229480</td>\n",
       "      <td>1.0</td>\n",
       "      <td>-0.275271</td>\n",
       "      <td>0.0</td>\n",
       "      <td>Island Of Blood</td>\n",
       "      <td>-0.446597</td>\n",
       "      <td>-0.198939</td>\n",
       "      <td>-0.519048</td>\n",
       "      <td>They came seeking fame and fortune! What they ...</td>\n",
       "      <td>...</td>\n",
       "      <td>-0.539905</td>\n",
       "      <td>[10]</td>\n",
       "      <td>[10]</td>\n",
       "      <td>[48]</td>\n",
       "      <td>[48]</td>\n",
       "      <td>[44, 44]</td>\n",
       "      <td>11.0</td>\n",
       "      <td>[114, 114, 114]</td>\n",
       "      <td>[114, 114]</td>\n",
       "      <td>[114]</td>\n",
       "    </tr>\n",
       "    <tr>\n",
       "      <th>39611</th>\n",
       "      <td>Slave Girls from Beyond Infinity (1987)</td>\n",
       "      <td>93991</td>\n",
       "      <td>1.0</td>\n",
       "      <td>-0.270413</td>\n",
       "      <td>0.0</td>\n",
       "      <td>Slave Girls from Beyond Infinity</td>\n",
       "      <td>0.054012</td>\n",
       "      <td>-0.198939</td>\n",
       "      <td>-0.589695</td>\n",
       "      <td>Big Movie. Big Production. Big Girls.</td>\n",
       "      <td>...</td>\n",
       "      <td>-0.238308</td>\n",
       "      <td>[0]</td>\n",
       "      <td>[0, 1, 14]</td>\n",
       "      <td>[48]</td>\n",
       "      <td>[48, 48]</td>\n",
       "      <td>[44, 44, 44]</td>\n",
       "      <td>11.0</td>\n",
       "      <td>[114, 114, 114]</td>\n",
       "      <td>[114, 114]</td>\n",
       "      <td>[114]</td>\n",
       "    </tr>\n",
       "    <tr>\n",
       "      <th>39612</th>\n",
       "      <td>Roller Blade Warriors: Taken by Force (1989)</td>\n",
       "      <td>98216</td>\n",
       "      <td>1.0</td>\n",
       "      <td>-0.275271</td>\n",
       "      <td>0.0</td>\n",
       "      <td>Roller Blade Warriors: Taken by Force</td>\n",
       "      <td>-0.466662</td>\n",
       "      <td>-0.198939</td>\n",
       "      <td>-0.483725</td>\n",
       "      <td>NaN</td>\n",
       "      <td>...</td>\n",
       "      <td>-1.143100</td>\n",
       "      <td>[8]</td>\n",
       "      <td>[8, 14]</td>\n",
       "      <td>[48]</td>\n",
       "      <td>[48]</td>\n",
       "      <td>[44, 44, 44, 44]</td>\n",
       "      <td>11.0</td>\n",
       "      <td>[114, 114, 114]</td>\n",
       "      <td>[114, 114]</td>\n",
       "      <td>[114]</td>\n",
       "    </tr>\n",
       "    <tr>\n",
       "      <th>39613</th>\n",
       "      <td>Avenging Angel (1985)</td>\n",
       "      <td>88757</td>\n",
       "      <td>1.0</td>\n",
       "      <td>-0.275271</td>\n",
       "      <td>0.0</td>\n",
       "      <td>Avenging Angel</td>\n",
       "      <td>-0.215438</td>\n",
       "      <td>-0.198939</td>\n",
       "      <td>-0.130491</td>\n",
       "      <td>It's 4 years later. She's graduating college. ...</td>\n",
       "      <td>...</td>\n",
       "      <td>0.063289</td>\n",
       "      <td>[0]</td>\n",
       "      <td>[0, 16]</td>\n",
       "      <td>[48]</td>\n",
       "      <td>[48]</td>\n",
       "      <td>[44, 33]</td>\n",
       "      <td>11.0</td>\n",
       "      <td>[114, 114, 114]</td>\n",
       "      <td>[114, 114]</td>\n",
       "      <td>[114]</td>\n",
       "    </tr>\n",
       "    <tr>\n",
       "      <th>39614</th>\n",
       "      <td>Los violadores (1981)</td>\n",
       "      <td>83291</td>\n",
       "      <td>1.0</td>\n",
       "      <td>-0.275271</td>\n",
       "      <td>9.0</td>\n",
       "      <td>Los violadores</td>\n",
       "      <td>-0.184340</td>\n",
       "      <td>-0.196588</td>\n",
       "      <td>-0.695666</td>\n",
       "      <td>NaN</td>\n",
       "      <td>...</td>\n",
       "      <td>-0.539905</td>\n",
       "      <td>[0]</td>\n",
       "      <td>[0, 4, 16]</td>\n",
       "      <td>[48]</td>\n",
       "      <td>[48, 48]</td>\n",
       "      <td>[44, 31, 22, 33, 23, 44, 44, 44]</td>\n",
       "      <td>11.0</td>\n",
       "      <td>[114, 114, 114]</td>\n",
       "      <td>[114, 114]</td>\n",
       "      <td>[114]</td>\n",
       "    </tr>\n",
       "  </tbody>\n",
       "</table>\n",
       "<p>39615 rows × 23 columns</p>\n",
       "</div>"
      ],
      "text/plain": [
       "                                              Title  imdbId  adult    budget  \\\n",
       "0                                  Toy Story (1995)  114709    0.0  1.344100   \n",
       "1                                    Jumanji (1995)  113497    0.0  3.233367   \n",
       "2                           Grumpier Old Men (1995)  113228    0.0  1.074205   \n",
       "3                          Waiting to Exhale (1995)  114885    0.0  0.588393   \n",
       "4                Father of the Bride Part II (1995)  113041    0.0 -0.275271   \n",
       "...                                             ...     ...    ...       ...   \n",
       "39610                        Island of Blood (1982)  229480    1.0 -0.275271   \n",
       "39611       Slave Girls from Beyond Infinity (1987)   93991    1.0 -0.270413   \n",
       "39612  Roller Blade Warriors: Taken by Force (1989)   98216    1.0 -0.275271   \n",
       "39613                         Avenging Angel (1985)   88757    1.0 -0.275271   \n",
       "39614                         Los violadores (1981)   83291    1.0 -0.275271   \n",
       "\n",
       "       original_language                         original_title  popularity  \\\n",
       "0                    0.0                              Toy Story   13.233161   \n",
       "1                    0.0                                Jumanji    0.497344   \n",
       "2                    0.0                       Grumpier Old Men    0.061151   \n",
       "3                    0.0                      Waiting to Exhale    0.180840   \n",
       "4                    0.0            Father of the Bride Part II    0.311671   \n",
       "...                  ...                                    ...         ...   \n",
       "39610                0.0                        Island Of Blood   -0.446597   \n",
       "39611                0.0       Slave Girls from Beyond Infinity    0.054012   \n",
       "39612                0.0  Roller Blade Warriors: Taken by Force   -0.466662   \n",
       "39613                0.0                         Avenging Angel   -0.215438   \n",
       "39614                9.0                         Los violadores   -0.184340   \n",
       "\n",
       "        revenue   runtime                                            tagline  \\\n",
       "0      5.243183 -0.554372                                                NaN   \n",
       "1      3.629983  0.258067          Roll the dice and unleash the excitement!   \n",
       "2      0.842709  0.152097  Still Yelling. Still Fighting. Still Ready for...   \n",
       "3      0.987697  1.070506  Friends are the people who let you be yourself...   \n",
       "4      0.916922  0.328714  Just When His World Is Back To Normal... He's ...   \n",
       "...         ...       ...                                                ...   \n",
       "39610 -0.198939 -0.519048  They came seeking fame and fortune! What they ...   \n",
       "39611 -0.198939 -0.589695              Big Movie. Big Production. Big Girls.   \n",
       "39612 -0.198939 -0.483725                                                NaN   \n",
       "39613 -0.198939 -0.130491  It's 4 years later. She's graduating college. ...   \n",
       "39614 -0.196588 -0.695666                                                NaN   \n",
       "\n",
       "       ...  num_translations  top_genre_index  top_genre_indices  \\\n",
       "0      ...          3.380860              [2]       [2, 1, 7, 3]   \n",
       "1      ...          2.978730              [1]          [1, 8, 7]   \n",
       "2      ...          1.370211             [13]            [13, 3]   \n",
       "3      ...          0.465419              [3]         [3, 6, 13]   \n",
       "4      ...          1.671808              [3]             [3, 7]   \n",
       "...    ...               ...              ...                ...   \n",
       "39610  ...         -0.539905             [10]               [10]   \n",
       "39611  ...         -0.238308              [0]         [0, 1, 14]   \n",
       "39612  ...         -1.143100              [8]            [8, 14]   \n",
       "39613  ...          0.063289              [0]            [0, 16]   \n",
       "39614  ...         -0.539905              [0]         [0, 4, 16]   \n",
       "\n",
       "       top_prod_company all_prod_companies  \\\n",
       "0                  [48]               [48]   \n",
       "1                  [39]       [39, 48, 48]   \n",
       "2                  [45]           [45, 48]   \n",
       "3                   [0]                [0]   \n",
       "4                  [48]           [48, 38]   \n",
       "...                 ...                ...   \n",
       "39610              [48]               [48]   \n",
       "39611              [48]           [48, 48]   \n",
       "39612              [48]               [48]   \n",
       "39613              [48]               [48]   \n",
       "39614              [48]           [48, 48]   \n",
       "\n",
       "                                            all_keywords release_date  \\\n",
       "0      [22, 44, 12, 44, 44, 44, 44, 44, 44, 44, 44, 4...         12.0   \n",
       "1                           [44, 44, 44, 44, 44, 44, 44]         12.0   \n",
       "2                [44, 44, 34, 44, 44, 44, 44, 44, 9, 44]         12.0   \n",
       "3                                        [1, 44, 44, 44]         12.0   \n",
       "4       [26, 44, 44, 44, 44, 44, 44, 34, 32, 19, 44, 44]         12.0   \n",
       "...                                                  ...          ...   \n",
       "39610                                           [44, 44]         11.0   \n",
       "39611                                       [44, 44, 44]         11.0   \n",
       "39612                                   [44, 44, 44, 44]         11.0   \n",
       "39613                                           [44, 33]         11.0   \n",
       "39614                   [44, 31, 22, 33, 23, 44, 44, 44]         11.0   \n",
       "\n",
       "           actors_top3 actors_top2  actor_top1  \n",
       "0      [128, 114, 114]  [128, 114]       [128]  \n",
       "1       [82, 114, 114]   [82, 114]        [82]  \n",
       "2        [11, 92, 114]    [11, 92]        [11]  \n",
       "3      [114, 114, 114]  [114, 114]       [114]  \n",
       "4      [114, 114, 114]  [114, 114]       [114]  \n",
       "...                ...         ...         ...  \n",
       "39610  [114, 114, 114]  [114, 114]       [114]  \n",
       "39611  [114, 114, 114]  [114, 114]       [114]  \n",
       "39612  [114, 114, 114]  [114, 114]       [114]  \n",
       "39613  [114, 114, 114]  [114, 114]       [114]  \n",
       "39614  [114, 114, 114]  [114, 114]       [114]  \n",
       "\n",
       "[39615 rows x 23 columns]"
      ]
     },
     "execution_count": 108,
     "metadata": {},
     "output_type": "execute_result"
    }
   ],
   "source": [
    "final_data.head(-5)"
   ]
  },
  {
   "cell_type": "code",
   "execution_count": 107,
   "id": "aeb23366",
   "metadata": {},
   "outputs": [
    {
     "data": {
      "text/plain": [
       "39620"
      ]
     },
     "execution_count": 107,
     "metadata": {},
     "output_type": "execute_result"
    }
   ],
   "source": [
    "len(final_data)"
   ]
  },
  {
   "cell_type": "code",
   "execution_count": 109,
   "id": "c0535d52",
   "metadata": {},
   "outputs": [],
   "source": [
    "final_data_ = final_data.dropna()"
   ]
  },
  {
   "cell_type": "code",
   "execution_count": 110,
   "id": "070ee065",
   "metadata": {},
   "outputs": [
    {
     "data": {
      "text/plain": [
       "39620"
      ]
     },
     "execution_count": 110,
     "metadata": {},
     "output_type": "execute_result"
    }
   ],
   "source": [
    "len(final_data)"
   ]
  },
  {
   "cell_type": "code",
   "execution_count": 111,
   "id": "2efa4183",
   "metadata": {},
   "outputs": [
    {
     "data": {
      "text/plain": [
       "array(['[2]', '[1]', '[13]', '[3]', '[0]', '[7]', '[6]', '[4]', '[16]',\n",
       "       '[8]', '[14]', '[9]', '[10]', '[5]', '[11]', '[]', '[12]', '[17]',\n",
       "       '[18]', '[15]'], dtype=object)"
      ]
     },
     "execution_count": 111,
     "metadata": {},
     "output_type": "execute_result"
    }
   ],
   "source": [
    "final_data['top_genre_index'].unique()"
   ]
  },
  {
   "cell_type": "code",
   "execution_count": 112,
   "id": "a3c638cd",
   "metadata": {},
   "outputs": [],
   "source": [
    "out_f = 'final_preprocessed_data.csv'\n",
    "final_data.to_csv(out_f, index=False)"
   ]
  },
  {
   "cell_type": "code",
   "execution_count": null,
   "id": "12f66539",
   "metadata": {},
   "outputs": [],
   "source": []
  }
 ],
 "metadata": {
  "kernelspec": {
   "display_name": "movie",
   "language": "python",
   "name": "movie"
  },
  "language_info": {
   "codemirror_mode": {
    "name": "ipython",
    "version": 3
   },
   "file_extension": ".py",
   "mimetype": "text/x-python",
   "name": "python",
   "nbconvert_exporter": "python",
   "pygments_lexer": "ipython3",
   "version": "3.10.6"
  }
 },
 "nbformat": 4,
 "nbformat_minor": 5
}
